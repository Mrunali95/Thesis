{
  "nbformat": 4,
  "nbformat_minor": 0,
  "metadata": {
    "colab": {
      "name": "Prophet.ipynb",
      "provenance": [],
      "collapsed_sections": [],
      "include_colab_link": true
    },
    "kernelspec": {
      "name": "python3",
      "display_name": "Python 3"
    }
  },
  "cells": [
    {
      "cell_type": "markdown",
      "metadata": {
        "id": "view-in-github",
        "colab_type": "text"
      },
      "source": [
        "<a href=\"https://colab.research.google.com/github/Mrunali95/Thesis/blob/master/Prophet.ipynb\" target=\"_parent\"><img src=\"https://colab.research.google.com/assets/colab-badge.svg\" alt=\"Open In Colab\"/></a>"
      ]
    },
    {
      "cell_type": "code",
      "metadata": {
        "id": "z4Yg2_-I2Xcn",
        "colab_type": "code",
        "colab": {
          "base_uri": "https://localhost:8080/",
          "height": 72
        },
        "outputId": "a9ff5720-1ee4-409c-e4d7-5a88a0cff180"
      },
      "source": [
        "#Import the libraries\n",
        "import math\n",
        "import pandas_datareader as web\n",
        "import numpy as np\n",
        "import pandas as pd\n",
        "from sklearn.preprocessing import MinMaxScaler\n",
        "import matplotlib.pyplot as plt\n",
        "import xgboost as xgb\n",
        "from xgboost import plot_importance, plot_tree\n",
        "from sklearn.metrics import mean_squared_error, mean_absolute_error\n",
        "\n",
        "plt.style.use('fivethirtyeight')\n",
        "from matplotlib.pylab import rcParams\n",
        "rcParams['figure.figsize'] = 10,6"
      ],
      "execution_count": 1,
      "outputs": [
        {
          "output_type": "stream",
          "text": [
            "/usr/local/lib/python3.6/dist-packages/pandas_datareader/compat/__init__.py:7: FutureWarning: pandas.util.testing is deprecated. Use the functions in the public API at pandas.testing instead.\n",
            "  from pandas.util.testing import assert_frame_equal\n"
          ],
          "name": "stderr"
        }
      ]
    },
    {
      "cell_type": "code",
      "metadata": {
        "id": "-NXOamkG2e2p",
        "colab_type": "code",
        "colab": {
          "base_uri": "https://localhost:8080/",
          "height": 225
        },
        "outputId": "571aa986-13a5-47d0-e82b-24da6606c107"
      },
      "source": [
        "## Download data of US Dollar Index\n",
        "\n",
        "dfUSD = web.DataReader('DX-Y.NYB', data_source='yahoo',start='1990-01-01',end='2020-01-01')\n",
        "\n",
        "dfUSD.head()"
      ],
      "execution_count": 2,
      "outputs": [
        {
          "output_type": "execute_result",
          "data": {
            "text/html": [
              "<div>\n",
              "<style scoped>\n",
              "    .dataframe tbody tr th:only-of-type {\n",
              "        vertical-align: middle;\n",
              "    }\n",
              "\n",
              "    .dataframe tbody tr th {\n",
              "        vertical-align: top;\n",
              "    }\n",
              "\n",
              "    .dataframe thead th {\n",
              "        text-align: right;\n",
              "    }\n",
              "</style>\n",
              "<table border=\"1\" class=\"dataframe\">\n",
              "  <thead>\n",
              "    <tr style=\"text-align: right;\">\n",
              "      <th></th>\n",
              "      <th>High</th>\n",
              "      <th>Low</th>\n",
              "      <th>Open</th>\n",
              "      <th>Close</th>\n",
              "      <th>Volume</th>\n",
              "      <th>Adj Close</th>\n",
              "    </tr>\n",
              "    <tr>\n",
              "      <th>Date</th>\n",
              "      <th></th>\n",
              "      <th></th>\n",
              "      <th></th>\n",
              "      <th></th>\n",
              "      <th></th>\n",
              "      <th></th>\n",
              "    </tr>\n",
              "  </thead>\n",
              "  <tbody>\n",
              "    <tr>\n",
              "      <th>1990-01-01</th>\n",
              "      <td>93.309998</td>\n",
              "      <td>93.080002</td>\n",
              "      <td>93.190002</td>\n",
              "      <td>93.209999</td>\n",
              "      <td>0.0</td>\n",
              "      <td>93.209999</td>\n",
              "    </tr>\n",
              "    <tr>\n",
              "      <th>1990-01-02</th>\n",
              "      <td>94.309998</td>\n",
              "      <td>93.080002</td>\n",
              "      <td>93.129997</td>\n",
              "      <td>94.290001</td>\n",
              "      <td>0.0</td>\n",
              "      <td>94.290001</td>\n",
              "    </tr>\n",
              "    <tr>\n",
              "      <th>1990-01-03</th>\n",
              "      <td>94.519997</td>\n",
              "      <td>94.080002</td>\n",
              "      <td>94.150002</td>\n",
              "      <td>94.419998</td>\n",
              "      <td>0.0</td>\n",
              "      <td>94.419998</td>\n",
              "    </tr>\n",
              "    <tr>\n",
              "      <th>1990-01-04</th>\n",
              "      <td>93.879997</td>\n",
              "      <td>92.389999</td>\n",
              "      <td>93.720001</td>\n",
              "      <td>92.519997</td>\n",
              "      <td>0.0</td>\n",
              "      <td>92.519997</td>\n",
              "    </tr>\n",
              "    <tr>\n",
              "      <th>1990-01-05</th>\n",
              "      <td>93.419998</td>\n",
              "      <td>92.550003</td>\n",
              "      <td>93.339996</td>\n",
              "      <td>92.849998</td>\n",
              "      <td>0.0</td>\n",
              "      <td>92.849998</td>\n",
              "    </tr>\n",
              "  </tbody>\n",
              "</table>\n",
              "</div>"
            ],
            "text/plain": [
              "                 High        Low       Open      Close  Volume  Adj Close\n",
              "Date                                                                     \n",
              "1990-01-01  93.309998  93.080002  93.190002  93.209999     0.0  93.209999\n",
              "1990-01-02  94.309998  93.080002  93.129997  94.290001     0.0  94.290001\n",
              "1990-01-03  94.519997  94.080002  94.150002  94.419998     0.0  94.419998\n",
              "1990-01-04  93.879997  92.389999  93.720001  92.519997     0.0  92.519997\n",
              "1990-01-05  93.419998  92.550003  93.339996  92.849998     0.0  92.849998"
            ]
          },
          "metadata": {
            "tags": []
          },
          "execution_count": 2
        }
      ]
    },
    {
      "cell_type": "code",
      "metadata": {
        "id": "9RyXv6UB3Yhb",
        "colab_type": "code",
        "colab": {
          "base_uri": "https://localhost:8080/",
          "height": 225
        },
        "outputId": "54499f2e-b7c6-4d26-f696-8b940427d4a0"
      },
      "source": [
        "## download data of NASDAQ index\n",
        "\n",
        "dfnasdaq = web.DataReader('^IXIC', data_source='yahoo',start='1990-01-01',end='2020-01-01')\n",
        "\n",
        "dfnasdaq.head()"
      ],
      "execution_count": 3,
      "outputs": [
        {
          "output_type": "execute_result",
          "data": {
            "text/html": [
              "<div>\n",
              "<style scoped>\n",
              "    .dataframe tbody tr th:only-of-type {\n",
              "        vertical-align: middle;\n",
              "    }\n",
              "\n",
              "    .dataframe tbody tr th {\n",
              "        vertical-align: top;\n",
              "    }\n",
              "\n",
              "    .dataframe thead th {\n",
              "        text-align: right;\n",
              "    }\n",
              "</style>\n",
              "<table border=\"1\" class=\"dataframe\">\n",
              "  <thead>\n",
              "    <tr style=\"text-align: right;\">\n",
              "      <th></th>\n",
              "      <th>High</th>\n",
              "      <th>Low</th>\n",
              "      <th>Open</th>\n",
              "      <th>Close</th>\n",
              "      <th>Volume</th>\n",
              "      <th>Adj Close</th>\n",
              "    </tr>\n",
              "    <tr>\n",
              "      <th>Date</th>\n",
              "      <th></th>\n",
              "      <th></th>\n",
              "      <th></th>\n",
              "      <th></th>\n",
              "      <th></th>\n",
              "      <th></th>\n",
              "    </tr>\n",
              "  </thead>\n",
              "  <tbody>\n",
              "    <tr>\n",
              "      <th>1990-01-02</th>\n",
              "      <td>459.299988</td>\n",
              "      <td>452.700012</td>\n",
              "      <td>452.899994</td>\n",
              "      <td>459.299988</td>\n",
              "      <td>110720000</td>\n",
              "      <td>459.299988</td>\n",
              "    </tr>\n",
              "    <tr>\n",
              "      <th>1990-01-03</th>\n",
              "      <td>461.600006</td>\n",
              "      <td>460.000000</td>\n",
              "      <td>461.100006</td>\n",
              "      <td>460.899994</td>\n",
              "      <td>152660000</td>\n",
              "      <td>460.899994</td>\n",
              "    </tr>\n",
              "    <tr>\n",
              "      <th>1990-01-04</th>\n",
              "      <td>460.799988</td>\n",
              "      <td>456.899994</td>\n",
              "      <td>460.399994</td>\n",
              "      <td>459.399994</td>\n",
              "      <td>147950000</td>\n",
              "      <td>459.399994</td>\n",
              "    </tr>\n",
              "    <tr>\n",
              "      <th>1990-01-05</th>\n",
              "      <td>459.399994</td>\n",
              "      <td>457.799988</td>\n",
              "      <td>457.899994</td>\n",
              "      <td>458.200012</td>\n",
              "      <td>137230000</td>\n",
              "      <td>458.200012</td>\n",
              "    </tr>\n",
              "    <tr>\n",
              "      <th>1990-01-08</th>\n",
              "      <td>458.700012</td>\n",
              "      <td>456.500000</td>\n",
              "      <td>457.100006</td>\n",
              "      <td>458.700012</td>\n",
              "      <td>115500000</td>\n",
              "      <td>458.700012</td>\n",
              "    </tr>\n",
              "  </tbody>\n",
              "</table>\n",
              "</div>"
            ],
            "text/plain": [
              "                  High         Low  ...     Volume   Adj Close\n",
              "Date                                ...                       \n",
              "1990-01-02  459.299988  452.700012  ...  110720000  459.299988\n",
              "1990-01-03  461.600006  460.000000  ...  152660000  460.899994\n",
              "1990-01-04  460.799988  456.899994  ...  147950000  459.399994\n",
              "1990-01-05  459.399994  457.799988  ...  137230000  458.200012\n",
              "1990-01-08  458.700012  456.500000  ...  115500000  458.700012\n",
              "\n",
              "[5 rows x 6 columns]"
            ]
          },
          "metadata": {
            "tags": []
          },
          "execution_count": 3
        }
      ]
    },
    {
      "cell_type": "code",
      "metadata": {
        "id": "zpJthkPZuzjF",
        "colab_type": "code",
        "colab": {
          "base_uri": "https://localhost:8080/",
          "height": 225
        },
        "outputId": "5e5213b8-b3bc-4dfb-9af2-89c0860e0eaa"
      },
      "source": [
        "## download data of Dow Jones Industrial Average index\n",
        "\n",
        "dfdaia = web.DataReader('^DJI', data_source='yahoo',start='1990-01-01',end='2020-01-01')\n",
        "\n",
        "dfdaia.head()"
      ],
      "execution_count": 4,
      "outputs": [
        {
          "output_type": "execute_result",
          "data": {
            "text/html": [
              "<div>\n",
              "<style scoped>\n",
              "    .dataframe tbody tr th:only-of-type {\n",
              "        vertical-align: middle;\n",
              "    }\n",
              "\n",
              "    .dataframe tbody tr th {\n",
              "        vertical-align: top;\n",
              "    }\n",
              "\n",
              "    .dataframe thead th {\n",
              "        text-align: right;\n",
              "    }\n",
              "</style>\n",
              "<table border=\"1\" class=\"dataframe\">\n",
              "  <thead>\n",
              "    <tr style=\"text-align: right;\">\n",
              "      <th></th>\n",
              "      <th>High</th>\n",
              "      <th>Low</th>\n",
              "      <th>Open</th>\n",
              "      <th>Close</th>\n",
              "      <th>Volume</th>\n",
              "      <th>Adj Close</th>\n",
              "    </tr>\n",
              "    <tr>\n",
              "      <th>Date</th>\n",
              "      <th></th>\n",
              "      <th></th>\n",
              "      <th></th>\n",
              "      <th></th>\n",
              "      <th></th>\n",
              "      <th></th>\n",
              "    </tr>\n",
              "  </thead>\n",
              "  <tbody>\n",
              "    <tr>\n",
              "      <th>1990-01-02</th>\n",
              "      <td>2811.649902</td>\n",
              "      <td>2732.510010</td>\n",
              "      <td>2748.719971</td>\n",
              "      <td>2810.149902</td>\n",
              "      <td>20680000</td>\n",
              "      <td>2810.149902</td>\n",
              "    </tr>\n",
              "    <tr>\n",
              "      <th>1990-01-03</th>\n",
              "      <td>2834.040039</td>\n",
              "      <td>2786.260010</td>\n",
              "      <td>2814.199951</td>\n",
              "      <td>2809.729980</td>\n",
              "      <td>23620000</td>\n",
              "      <td>2809.729980</td>\n",
              "    </tr>\n",
              "    <tr>\n",
              "      <th>1990-01-04</th>\n",
              "      <td>2821.459961</td>\n",
              "      <td>2766.419922</td>\n",
              "      <td>2804.389893</td>\n",
              "      <td>2796.080078</td>\n",
              "      <td>24370000</td>\n",
              "      <td>2796.080078</td>\n",
              "    </tr>\n",
              "    <tr>\n",
              "      <th>1990-01-05</th>\n",
              "      <td>2810.149902</td>\n",
              "      <td>2758.110107</td>\n",
              "      <td>2786.899902</td>\n",
              "      <td>2773.250000</td>\n",
              "      <td>20290000</td>\n",
              "      <td>2773.250000</td>\n",
              "    </tr>\n",
              "    <tr>\n",
              "      <th>1990-01-08</th>\n",
              "      <td>2803.969971</td>\n",
              "      <td>2753.409912</td>\n",
              "      <td>2761.729980</td>\n",
              "      <td>2794.370117</td>\n",
              "      <td>16610000</td>\n",
              "      <td>2794.370117</td>\n",
              "    </tr>\n",
              "  </tbody>\n",
              "</table>\n",
              "</div>"
            ],
            "text/plain": [
              "                   High          Low  ...    Volume    Adj Close\n",
              "Date                                  ...                       \n",
              "1990-01-02  2811.649902  2732.510010  ...  20680000  2810.149902\n",
              "1990-01-03  2834.040039  2786.260010  ...  23620000  2809.729980\n",
              "1990-01-04  2821.459961  2766.419922  ...  24370000  2796.080078\n",
              "1990-01-05  2810.149902  2758.110107  ...  20290000  2773.250000\n",
              "1990-01-08  2803.969971  2753.409912  ...  16610000  2794.370117\n",
              "\n",
              "[5 rows x 6 columns]"
            ]
          },
          "metadata": {
            "tags": []
          },
          "execution_count": 4
        }
      ]
    },
    {
      "cell_type": "code",
      "metadata": {
        "id": "hYgDLPXxvGgE",
        "colab_type": "code",
        "colab": {
          "base_uri": "https://localhost:8080/",
          "height": 225
        },
        "outputId": "3b14abb7-5c17-4939-bdb7-3cc4a28fb6f2"
      },
      "source": [
        "## download data of S&P 500 index\n",
        "\n",
        "dfsp = web.DataReader('^GSPC', data_source='yahoo',start='1990-01-01',end='2020-01-01')\n",
        "\n",
        "dfsp.head()"
      ],
      "execution_count": 5,
      "outputs": [
        {
          "output_type": "execute_result",
          "data": {
            "text/html": [
              "<div>\n",
              "<style scoped>\n",
              "    .dataframe tbody tr th:only-of-type {\n",
              "        vertical-align: middle;\n",
              "    }\n",
              "\n",
              "    .dataframe tbody tr th {\n",
              "        vertical-align: top;\n",
              "    }\n",
              "\n",
              "    .dataframe thead th {\n",
              "        text-align: right;\n",
              "    }\n",
              "</style>\n",
              "<table border=\"1\" class=\"dataframe\">\n",
              "  <thead>\n",
              "    <tr style=\"text-align: right;\">\n",
              "      <th></th>\n",
              "      <th>High</th>\n",
              "      <th>Low</th>\n",
              "      <th>Open</th>\n",
              "      <th>Close</th>\n",
              "      <th>Volume</th>\n",
              "      <th>Adj Close</th>\n",
              "    </tr>\n",
              "    <tr>\n",
              "      <th>Date</th>\n",
              "      <th></th>\n",
              "      <th></th>\n",
              "      <th></th>\n",
              "      <th></th>\n",
              "      <th></th>\n",
              "      <th></th>\n",
              "    </tr>\n",
              "  </thead>\n",
              "  <tbody>\n",
              "    <tr>\n",
              "      <th>1990-01-02</th>\n",
              "      <td>359.690002</td>\n",
              "      <td>351.980011</td>\n",
              "      <td>353.399994</td>\n",
              "      <td>359.690002</td>\n",
              "      <td>162070000</td>\n",
              "      <td>359.690002</td>\n",
              "    </tr>\n",
              "    <tr>\n",
              "      <th>1990-01-03</th>\n",
              "      <td>360.589996</td>\n",
              "      <td>357.890015</td>\n",
              "      <td>359.690002</td>\n",
              "      <td>358.760010</td>\n",
              "      <td>192330000</td>\n",
              "      <td>358.760010</td>\n",
              "    </tr>\n",
              "    <tr>\n",
              "      <th>1990-01-04</th>\n",
              "      <td>358.760010</td>\n",
              "      <td>352.890015</td>\n",
              "      <td>358.760010</td>\n",
              "      <td>355.670013</td>\n",
              "      <td>177000000</td>\n",
              "      <td>355.670013</td>\n",
              "    </tr>\n",
              "    <tr>\n",
              "      <th>1990-01-05</th>\n",
              "      <td>355.670013</td>\n",
              "      <td>351.350006</td>\n",
              "      <td>355.670013</td>\n",
              "      <td>352.200012</td>\n",
              "      <td>158530000</td>\n",
              "      <td>352.200012</td>\n",
              "    </tr>\n",
              "    <tr>\n",
              "      <th>1990-01-08</th>\n",
              "      <td>354.239990</td>\n",
              "      <td>350.540009</td>\n",
              "      <td>352.200012</td>\n",
              "      <td>353.790009</td>\n",
              "      <td>140110000</td>\n",
              "      <td>353.790009</td>\n",
              "    </tr>\n",
              "  </tbody>\n",
              "</table>\n",
              "</div>"
            ],
            "text/plain": [
              "                  High         Low  ...     Volume   Adj Close\n",
              "Date                                ...                       \n",
              "1990-01-02  359.690002  351.980011  ...  162070000  359.690002\n",
              "1990-01-03  360.589996  357.890015  ...  192330000  358.760010\n",
              "1990-01-04  358.760010  352.890015  ...  177000000  355.670013\n",
              "1990-01-05  355.670013  351.350006  ...  158530000  352.200012\n",
              "1990-01-08  354.239990  350.540009  ...  140110000  353.790009\n",
              "\n",
              "[5 rows x 6 columns]"
            ]
          },
          "metadata": {
            "tags": []
          },
          "execution_count": 5
        }
      ]
    },
    {
      "cell_type": "code",
      "metadata": {
        "id": "QnJZHxMuvUAF",
        "colab_type": "code",
        "colab": {
          "base_uri": "https://localhost:8080/",
          "height": 225
        },
        "outputId": "71fe2196-3f24-4cfb-ac67-7ad1c3b9e8c2"
      },
      "source": [
        "## download data of NYSE index\n",
        "\n",
        "dfnyse = web.DataReader('^NYA', data_source='yahoo',start='1990-01-01',end='2020-01-01')\n",
        "\n",
        "dfnyse.head()"
      ],
      "execution_count": 6,
      "outputs": [
        {
          "output_type": "execute_result",
          "data": {
            "text/html": [
              "<div>\n",
              "<style scoped>\n",
              "    .dataframe tbody tr th:only-of-type {\n",
              "        vertical-align: middle;\n",
              "    }\n",
              "\n",
              "    .dataframe tbody tr th {\n",
              "        vertical-align: top;\n",
              "    }\n",
              "\n",
              "    .dataframe thead th {\n",
              "        text-align: right;\n",
              "    }\n",
              "</style>\n",
              "<table border=\"1\" class=\"dataframe\">\n",
              "  <thead>\n",
              "    <tr style=\"text-align: right;\">\n",
              "      <th></th>\n",
              "      <th>High</th>\n",
              "      <th>Low</th>\n",
              "      <th>Open</th>\n",
              "      <th>Close</th>\n",
              "      <th>Volume</th>\n",
              "      <th>Adj Close</th>\n",
              "    </tr>\n",
              "    <tr>\n",
              "      <th>Date</th>\n",
              "      <th></th>\n",
              "      <th></th>\n",
              "      <th></th>\n",
              "      <th></th>\n",
              "      <th></th>\n",
              "      <th></th>\n",
              "    </tr>\n",
              "  </thead>\n",
              "  <tbody>\n",
              "    <tr>\n",
              "      <th>1990-01-02</th>\n",
              "      <td>2093.600098</td>\n",
              "      <td>2093.600098</td>\n",
              "      <td>2093.600098</td>\n",
              "      <td>2093.600098</td>\n",
              "      <td>0</td>\n",
              "      <td>2093.600098</td>\n",
              "    </tr>\n",
              "    <tr>\n",
              "      <th>1990-01-03</th>\n",
              "      <td>2091.479980</td>\n",
              "      <td>2091.479980</td>\n",
              "      <td>2091.479980</td>\n",
              "      <td>2091.479980</td>\n",
              "      <td>0</td>\n",
              "      <td>2091.479980</td>\n",
              "    </tr>\n",
              "    <tr>\n",
              "      <th>1990-01-04</th>\n",
              "      <td>2075.520020</td>\n",
              "      <td>2075.520020</td>\n",
              "      <td>2075.520020</td>\n",
              "      <td>2075.520020</td>\n",
              "      <td>0</td>\n",
              "      <td>2075.520020</td>\n",
              "    </tr>\n",
              "    <tr>\n",
              "      <th>1990-01-05</th>\n",
              "      <td>2058.070068</td>\n",
              "      <td>2058.070068</td>\n",
              "      <td>2058.070068</td>\n",
              "      <td>2058.070068</td>\n",
              "      <td>0</td>\n",
              "      <td>2058.070068</td>\n",
              "    </tr>\n",
              "    <tr>\n",
              "      <th>1990-01-08</th>\n",
              "      <td>2065.370117</td>\n",
              "      <td>2065.370117</td>\n",
              "      <td>2065.370117</td>\n",
              "      <td>2065.370117</td>\n",
              "      <td>0</td>\n",
              "      <td>2065.370117</td>\n",
              "    </tr>\n",
              "  </tbody>\n",
              "</table>\n",
              "</div>"
            ],
            "text/plain": [
              "                   High          Low  ...  Volume    Adj Close\n",
              "Date                                  ...                     \n",
              "1990-01-02  2093.600098  2093.600098  ...       0  2093.600098\n",
              "1990-01-03  2091.479980  2091.479980  ...       0  2091.479980\n",
              "1990-01-04  2075.520020  2075.520020  ...       0  2075.520020\n",
              "1990-01-05  2058.070068  2058.070068  ...       0  2058.070068\n",
              "1990-01-08  2065.370117  2065.370117  ...       0  2065.370117\n",
              "\n",
              "[5 rows x 6 columns]"
            ]
          },
          "metadata": {
            "tags": []
          },
          "execution_count": 6
        }
      ]
    },
    {
      "cell_type": "code",
      "metadata": {
        "id": "31UqqNfdhKzE",
        "colab_type": "code",
        "colab": {}
      },
      "source": [
        "newdfUSD = dfUSD[(dfUSD.index).isin(dfnasdaq.index)]\n"
      ],
      "execution_count": 7,
      "outputs": []
    },
    {
      "cell_type": "code",
      "metadata": {
        "id": "m17_UpOqihkx",
        "colab_type": "code",
        "colab": {}
      },
      "source": [
        "absent = dfdaia[~(dfdaia.index).isin(newdfUSD.index)]"
      ],
      "execution_count": 8,
      "outputs": []
    },
    {
      "cell_type": "code",
      "metadata": {
        "id": "HEnoD6s_t-Dq",
        "colab_type": "code",
        "colab": {}
      },
      "source": [
        "newdfnasdaq = dfnasdaq[~(dfnasdaq.index).isin(absent.index)]\n",
        "newdfdaia = dfdaia[~(dfdaia.index).isin(absent.index)]\n",
        "newdfnyse = dfnyse[~(dfnyse.index).isin(absent.index)]\n",
        "newdfsp = dfsp[~(dfsp.index).isin(absent.index)]"
      ],
      "execution_count": 9,
      "outputs": []
    },
    {
      "cell_type": "code",
      "metadata": {
        "id": "X1rNhwd1KlgS",
        "colab_type": "code",
        "colab": {
          "base_uri": "https://localhost:8080/",
          "height": 225
        },
        "outputId": "da88a398-a4bf-4663-a53e-2b717ec3eb25"
      },
      "source": [
        "finaldata = pd.DataFrame(columns=['USD','NASDAQ','DJAI','NYSE','S&P'])\n",
        "\n",
        "finaldata['USD'] = newdfUSD['Close']\n",
        "finaldata['NASDAQ'] = newdfnasdaq['Close']\n",
        "finaldata['DJAI'] = newdfdaia['Close']\n",
        "finaldata['NYSE'] = newdfnyse['Close']\n",
        "finaldata['S&P'] = newdfsp['Close']\n",
        "\n",
        "finaldata.head()"
      ],
      "execution_count": 10,
      "outputs": [
        {
          "output_type": "execute_result",
          "data": {
            "text/html": [
              "<div>\n",
              "<style scoped>\n",
              "    .dataframe tbody tr th:only-of-type {\n",
              "        vertical-align: middle;\n",
              "    }\n",
              "\n",
              "    .dataframe tbody tr th {\n",
              "        vertical-align: top;\n",
              "    }\n",
              "\n",
              "    .dataframe thead th {\n",
              "        text-align: right;\n",
              "    }\n",
              "</style>\n",
              "<table border=\"1\" class=\"dataframe\">\n",
              "  <thead>\n",
              "    <tr style=\"text-align: right;\">\n",
              "      <th></th>\n",
              "      <th>USD</th>\n",
              "      <th>NASDAQ</th>\n",
              "      <th>DJAI</th>\n",
              "      <th>NYSE</th>\n",
              "      <th>S&amp;P</th>\n",
              "    </tr>\n",
              "    <tr>\n",
              "      <th>Date</th>\n",
              "      <th></th>\n",
              "      <th></th>\n",
              "      <th></th>\n",
              "      <th></th>\n",
              "      <th></th>\n",
              "    </tr>\n",
              "  </thead>\n",
              "  <tbody>\n",
              "    <tr>\n",
              "      <th>1990-01-02</th>\n",
              "      <td>94.290001</td>\n",
              "      <td>459.299988</td>\n",
              "      <td>2810.149902</td>\n",
              "      <td>2093.600098</td>\n",
              "      <td>359.690002</td>\n",
              "    </tr>\n",
              "    <tr>\n",
              "      <th>1990-01-03</th>\n",
              "      <td>94.419998</td>\n",
              "      <td>460.899994</td>\n",
              "      <td>2809.729980</td>\n",
              "      <td>2091.479980</td>\n",
              "      <td>358.760010</td>\n",
              "    </tr>\n",
              "    <tr>\n",
              "      <th>1990-01-04</th>\n",
              "      <td>92.519997</td>\n",
              "      <td>459.399994</td>\n",
              "      <td>2796.080078</td>\n",
              "      <td>2075.520020</td>\n",
              "      <td>355.670013</td>\n",
              "    </tr>\n",
              "    <tr>\n",
              "      <th>1990-01-05</th>\n",
              "      <td>92.849998</td>\n",
              "      <td>458.200012</td>\n",
              "      <td>2773.250000</td>\n",
              "      <td>2058.070068</td>\n",
              "      <td>352.200012</td>\n",
              "    </tr>\n",
              "    <tr>\n",
              "      <th>1990-01-08</th>\n",
              "      <td>92.050003</td>\n",
              "      <td>458.700012</td>\n",
              "      <td>2794.370117</td>\n",
              "      <td>2065.370117</td>\n",
              "      <td>353.790009</td>\n",
              "    </tr>\n",
              "  </tbody>\n",
              "</table>\n",
              "</div>"
            ],
            "text/plain": [
              "                  USD      NASDAQ         DJAI         NYSE         S&P\n",
              "Date                                                                   \n",
              "1990-01-02  94.290001  459.299988  2810.149902  2093.600098  359.690002\n",
              "1990-01-03  94.419998  460.899994  2809.729980  2091.479980  358.760010\n",
              "1990-01-04  92.519997  459.399994  2796.080078  2075.520020  355.670013\n",
              "1990-01-05  92.849998  458.200012  2773.250000  2058.070068  352.200012\n",
              "1990-01-08  92.050003  458.700012  2794.370117  2065.370117  353.790009"
            ]
          },
          "metadata": {
            "tags": []
          },
          "execution_count": 10
        }
      ]
    },
    {
      "cell_type": "code",
      "metadata": {
        "id": "m_fhPpNeN3to",
        "colab_type": "code",
        "colab": {}
      },
      "source": [
        "from sklearn.preprocessing import MinMaxScaler\n",
        "\n",
        "uscaler = MinMaxScaler(feature_range=(0, 1))\n",
        "unorm = uscaler.fit_transform(np.array(finaldata['USD']).reshape(-1,1))\n",
        "\n",
        "nqscaler = MinMaxScaler(feature_range=(0, 1))\n",
        "nqnorm = nqscaler.fit_transform(np.array(finaldata['NASDAQ']).reshape(-1,1))\n",
        "\n",
        "dscaler = MinMaxScaler(feature_range=(0, 1))\n",
        "dnorm = dscaler.fit_transform(np.array(finaldata['DJAI']).reshape(-1,1))\n",
        "\n",
        "nyscaler = MinMaxScaler(feature_range=(0, 1))\n",
        "nynorm = nyscaler.fit_transform(np.array(finaldata['NYSE']).reshape(-1,1))\n",
        "\n",
        "spscaler = MinMaxScaler(feature_range=(0, 1))\n",
        "spnorm = spscaler.fit_transform(np.array(finaldata['S&P']).reshape(-1,1))"
      ],
      "execution_count": 11,
      "outputs": []
    },
    {
      "cell_type": "code",
      "metadata": {
        "id": "9ngRUosVOMY8",
        "colab_type": "code",
        "colab": {}
      },
      "source": [
        "normdata = pd.DataFrame(columns=['USD','NASDAQ','DJAI','NYSE','S&P'])\n",
        "\n",
        "normdata['USD'] = unorm.flatten()\n",
        "normdata['NASDAQ'] = nqnorm.flatten()\n",
        "normdata['DJAI'] = dnorm.flatten()\n",
        "normdata['NYSE'] = nynorm.flatten()\n",
        "normdata['S&P'] = spnorm.flatten()\n",
        "\n",
        "normdata.index = finaldata.index"
      ],
      "execution_count": 12,
      "outputs": []
    },
    {
      "cell_type": "code",
      "metadata": {
        "id": "bt135do6OcNP",
        "colab_type": "code",
        "colab": {}
      },
      "source": [
        "normdata['Date'] = normdata.index\n",
        "normdata['Date'] = pd.to_datetime(normdata['Date'])"
      ],
      "execution_count": 13,
      "outputs": []
    },
    {
      "cell_type": "code",
      "metadata": {
        "id": "I4ZmySD9wLHq",
        "colab_type": "code",
        "colab": {}
      },
      "source": [
        "train = normdata[:int(len(normdata)*0.8)]\n",
        "test = normdata[int(len(normdata)*0.8):]"
      ],
      "execution_count": 14,
      "outputs": []
    },
    {
      "cell_type": "code",
      "metadata": {
        "id": "RORiqBphPrKe",
        "colab_type": "code",
        "colab": {}
      },
      "source": [
        "df = train\n",
        "\n",
        "df = df.rename(columns={'USD':'y','Date':'ds'})"
      ],
      "execution_count": 15,
      "outputs": []
    },
    {
      "cell_type": "code",
      "metadata": {
        "id": "E3af9mT997HR",
        "colab_type": "code",
        "colab": {}
      },
      "source": [
        "test = test.rename(columns={'USD':'y','Date':'ds'})"
      ],
      "execution_count": 16,
      "outputs": []
    },
    {
      "cell_type": "code",
      "metadata": {
        "id": "q58AgJ5Udakt",
        "colab_type": "code",
        "colab": {
          "base_uri": "https://localhost:8080/",
          "height": 431
        },
        "outputId": "1fabe0e9-dade-46bc-b4ee-a5e3082a0fb3"
      },
      "source": [
        "df"
      ],
      "execution_count": 17,
      "outputs": [
        {
          "output_type": "execute_result",
          "data": {
            "text/html": [
              "<div>\n",
              "<style scoped>\n",
              "    .dataframe tbody tr th:only-of-type {\n",
              "        vertical-align: middle;\n",
              "    }\n",
              "\n",
              "    .dataframe tbody tr th {\n",
              "        vertical-align: top;\n",
              "    }\n",
              "\n",
              "    .dataframe thead th {\n",
              "        text-align: right;\n",
              "    }\n",
              "</style>\n",
              "<table border=\"1\" class=\"dataframe\">\n",
              "  <thead>\n",
              "    <tr style=\"text-align: right;\">\n",
              "      <th></th>\n",
              "      <th>y</th>\n",
              "      <th>NASDAQ</th>\n",
              "      <th>DJAI</th>\n",
              "      <th>NYSE</th>\n",
              "      <th>S&amp;P</th>\n",
              "      <th>ds</th>\n",
              "    </tr>\n",
              "    <tr>\n",
              "      <th>Date</th>\n",
              "      <th></th>\n",
              "      <th></th>\n",
              "      <th></th>\n",
              "      <th></th>\n",
              "      <th></th>\n",
              "      <th></th>\n",
              "    </tr>\n",
              "  </thead>\n",
              "  <tbody>\n",
              "    <tr>\n",
              "      <th>1990-01-02</th>\n",
              "      <td>0.463183</td>\n",
              "      <td>0.015396</td>\n",
              "      <td>0.016935</td>\n",
              "      <td>0.030954</td>\n",
              "      <td>0.021813</td>\n",
              "      <td>1990-01-02</td>\n",
              "    </tr>\n",
              "    <tr>\n",
              "      <th>1990-01-03</th>\n",
              "      <td>0.465806</td>\n",
              "      <td>0.015580</td>\n",
              "      <td>0.016919</td>\n",
              "      <td>0.030781</td>\n",
              "      <td>0.021497</td>\n",
              "      <td>1990-01-03</td>\n",
              "    </tr>\n",
              "    <tr>\n",
              "      <th>1990-01-04</th>\n",
              "      <td>0.427476</td>\n",
              "      <td>0.015408</td>\n",
              "      <td>0.016399</td>\n",
              "      <td>0.029476</td>\n",
              "      <td>0.020448</td>\n",
              "      <td>1990-01-04</td>\n",
              "    </tr>\n",
              "    <tr>\n",
              "      <th>1990-01-05</th>\n",
              "      <td>0.434133</td>\n",
              "      <td>0.015270</td>\n",
              "      <td>0.015531</td>\n",
              "      <td>0.028049</td>\n",
              "      <td>0.019269</td>\n",
              "      <td>1990-01-05</td>\n",
              "    </tr>\n",
              "    <tr>\n",
              "      <th>1990-01-08</th>\n",
              "      <td>0.417995</td>\n",
              "      <td>0.015327</td>\n",
              "      <td>0.016334</td>\n",
              "      <td>0.028646</td>\n",
              "      <td>0.019809</td>\n",
              "      <td>1990-01-08</td>\n",
              "    </tr>\n",
              "    <tr>\n",
              "      <th>...</th>\n",
              "      <td>...</td>\n",
              "      <td>...</td>\n",
              "      <td>...</td>\n",
              "      <td>...</td>\n",
              "      <td>...</td>\n",
              "      <td>...</td>\n",
              "    </tr>\n",
              "    <tr>\n",
              "      <th>2013-12-10</th>\n",
              "      <td>0.174299</td>\n",
              "      <td>0.429469</td>\n",
              "      <td>0.517806</td>\n",
              "      <td>0.686855</td>\n",
              "      <td>0.511846</td>\n",
              "      <td>2013-12-10</td>\n",
              "    </tr>\n",
              "    <tr>\n",
              "      <th>2013-12-11</th>\n",
              "      <td>0.172685</td>\n",
              "      <td>0.422952</td>\n",
              "      <td>0.512875</td>\n",
              "      <td>0.676780</td>\n",
              "      <td>0.504918</td>\n",
              "      <td>2013-12-11</td>\n",
              "    </tr>\n",
              "    <tr>\n",
              "      <th>2013-12-12</th>\n",
              "      <td>0.178939</td>\n",
              "      <td>0.422330</td>\n",
              "      <td>0.508914</td>\n",
              "      <td>0.673356</td>\n",
              "      <td>0.502635</td>\n",
              "      <td>2013-12-12</td>\n",
              "    </tr>\n",
              "    <tr>\n",
              "      <th>2013-12-13</th>\n",
              "      <td>0.179141</td>\n",
              "      <td>0.422627</td>\n",
              "      <td>0.509520</td>\n",
              "      <td>0.673786</td>\n",
              "      <td>0.502574</td>\n",
              "      <td>2013-12-13</td>\n",
              "    </tr>\n",
              "    <tr>\n",
              "      <th>2013-12-16</th>\n",
              "      <td>0.176316</td>\n",
              "      <td>0.425908</td>\n",
              "      <td>0.514436</td>\n",
              "      <td>0.679520</td>\n",
              "      <td>0.506385</td>\n",
              "      <td>2013-12-16</td>\n",
              "    </tr>\n",
              "  </tbody>\n",
              "</table>\n",
              "<p>6020 rows × 6 columns</p>\n",
              "</div>"
            ],
            "text/plain": [
              "                   y    NASDAQ      DJAI      NYSE       S&P         ds\n",
              "Date                                                                   \n",
              "1990-01-02  0.463183  0.015396  0.016935  0.030954  0.021813 1990-01-02\n",
              "1990-01-03  0.465806  0.015580  0.016919  0.030781  0.021497 1990-01-03\n",
              "1990-01-04  0.427476  0.015408  0.016399  0.029476  0.020448 1990-01-04\n",
              "1990-01-05  0.434133  0.015270  0.015531  0.028049  0.019269 1990-01-05\n",
              "1990-01-08  0.417995  0.015327  0.016334  0.028646  0.019809 1990-01-08\n",
              "...              ...       ...       ...       ...       ...        ...\n",
              "2013-12-10  0.174299  0.429469  0.517806  0.686855  0.511846 2013-12-10\n",
              "2013-12-11  0.172685  0.422952  0.512875  0.676780  0.504918 2013-12-11\n",
              "2013-12-12  0.178939  0.422330  0.508914  0.673356  0.502635 2013-12-12\n",
              "2013-12-13  0.179141  0.422627  0.509520  0.673786  0.502574 2013-12-13\n",
              "2013-12-16  0.176316  0.425908  0.514436  0.679520  0.506385 2013-12-16\n",
              "\n",
              "[6020 rows x 6 columns]"
            ]
          },
          "metadata": {
            "tags": []
          },
          "execution_count": 17
        }
      ]
    },
    {
      "cell_type": "code",
      "metadata": {
        "id": "ES9x7Lz6eFtI",
        "colab_type": "code",
        "colab": {
          "base_uri": "https://localhost:8080/",
          "height": 34
        },
        "outputId": "d5692edc-58f4-4380-c37e-3e965bb8aed6"
      },
      "source": [
        "from fbprophet import Prophet\n",
        "\n",
        "model = Prophet(yearly_seasonality=False,weekly_seasonality=False, daily_seasonality=False)\n",
        "model.add_seasonality(name='yearly', period=365, fourier_order=20)\n",
        "model.add_regressor('DJAI')\n",
        "model.add_regressor('NASDAQ')\n",
        "model.add_regressor('NYSE')\n",
        "model.add_regressor('S&P')\n",
        "model.fit(df)"
      ],
      "execution_count": 50,
      "outputs": [
        {
          "output_type": "execute_result",
          "data": {
            "text/plain": [
              "<fbprophet.forecaster.Prophet at 0x7f707edf87f0>"
            ]
          },
          "metadata": {
            "tags": []
          },
          "execution_count": 50
        }
      ]
    },
    {
      "cell_type": "code",
      "metadata": {
        "id": "O5PdqPWA93Qr",
        "colab_type": "code",
        "colab": {}
      },
      "source": [
        "pred=model.predict(test.drop('y', axis=1))"
      ],
      "execution_count": 51,
      "outputs": []
    },
    {
      "cell_type": "code",
      "metadata": {
        "id": "S6xF2mP6-R-P",
        "colab_type": "code",
        "colab": {
          "base_uri": "https://localhost:8080/",
          "height": 619
        },
        "outputId": "2779ca0d-b2d1-4fb4-d0a9-6b82cf1eb7d9"
      },
      "source": [
        "pred.index = pred['ds']\n",
        "pred"
      ],
      "execution_count": 52,
      "outputs": [
        {
          "output_type": "execute_result",
          "data": {
            "text/html": [
              "<div>\n",
              "<style scoped>\n",
              "    .dataframe tbody tr th:only-of-type {\n",
              "        vertical-align: middle;\n",
              "    }\n",
              "\n",
              "    .dataframe tbody tr th {\n",
              "        vertical-align: top;\n",
              "    }\n",
              "\n",
              "    .dataframe thead th {\n",
              "        text-align: right;\n",
              "    }\n",
              "</style>\n",
              "<table border=\"1\" class=\"dataframe\">\n",
              "  <thead>\n",
              "    <tr style=\"text-align: right;\">\n",
              "      <th></th>\n",
              "      <th>ds</th>\n",
              "      <th>trend</th>\n",
              "      <th>yhat_lower</th>\n",
              "      <th>yhat_upper</th>\n",
              "      <th>trend_lower</th>\n",
              "      <th>trend_upper</th>\n",
              "      <th>DJAI</th>\n",
              "      <th>DJAI_lower</th>\n",
              "      <th>DJAI_upper</th>\n",
              "      <th>NASDAQ</th>\n",
              "      <th>NASDAQ_lower</th>\n",
              "      <th>NASDAQ_upper</th>\n",
              "      <th>NYSE</th>\n",
              "      <th>NYSE_lower</th>\n",
              "      <th>NYSE_upper</th>\n",
              "      <th>S&amp;P</th>\n",
              "      <th>S&amp;P_lower</th>\n",
              "      <th>S&amp;P_upper</th>\n",
              "      <th>additive_terms</th>\n",
              "      <th>additive_terms_lower</th>\n",
              "      <th>additive_terms_upper</th>\n",
              "      <th>extra_regressors_additive</th>\n",
              "      <th>extra_regressors_additive_lower</th>\n",
              "      <th>extra_regressors_additive_upper</th>\n",
              "      <th>yearly</th>\n",
              "      <th>yearly_lower</th>\n",
              "      <th>yearly_upper</th>\n",
              "      <th>multiplicative_terms</th>\n",
              "      <th>multiplicative_terms_lower</th>\n",
              "      <th>multiplicative_terms_upper</th>\n",
              "      <th>yhat</th>\n",
              "    </tr>\n",
              "    <tr>\n",
              "      <th>ds</th>\n",
              "      <th></th>\n",
              "      <th></th>\n",
              "      <th></th>\n",
              "      <th></th>\n",
              "      <th></th>\n",
              "      <th></th>\n",
              "      <th></th>\n",
              "      <th></th>\n",
              "      <th></th>\n",
              "      <th></th>\n",
              "      <th></th>\n",
              "      <th></th>\n",
              "      <th></th>\n",
              "      <th></th>\n",
              "      <th></th>\n",
              "      <th></th>\n",
              "      <th></th>\n",
              "      <th></th>\n",
              "      <th></th>\n",
              "      <th></th>\n",
              "      <th></th>\n",
              "      <th></th>\n",
              "      <th></th>\n",
              "      <th></th>\n",
              "      <th></th>\n",
              "      <th></th>\n",
              "      <th></th>\n",
              "      <th></th>\n",
              "      <th></th>\n",
              "      <th></th>\n",
              "      <th></th>\n",
              "    </tr>\n",
              "  </thead>\n",
              "  <tbody>\n",
              "    <tr>\n",
              "      <th>2013-12-17</th>\n",
              "      <td>2013-12-17</td>\n",
              "      <td>0.205825</td>\n",
              "      <td>0.140955</td>\n",
              "      <td>0.253360</td>\n",
              "      <td>0.205825</td>\n",
              "      <td>0.205825</td>\n",
              "      <td>-0.109811</td>\n",
              "      <td>-0.109811</td>\n",
              "      <td>-0.109811</td>\n",
              "      <td>-0.211999</td>\n",
              "      <td>-0.211999</td>\n",
              "      <td>-0.211999</td>\n",
              "      <td>-0.901141</td>\n",
              "      <td>-0.901141</td>\n",
              "      <td>-0.901141</td>\n",
              "      <td>1.229567</td>\n",
              "      <td>1.229567</td>\n",
              "      <td>1.229567</td>\n",
              "      <td>-0.008486</td>\n",
              "      <td>-0.008486</td>\n",
              "      <td>-0.008486</td>\n",
              "      <td>0.006616</td>\n",
              "      <td>0.006616</td>\n",
              "      <td>0.006616</td>\n",
              "      <td>-0.015102</td>\n",
              "      <td>-0.015102</td>\n",
              "      <td>-0.015102</td>\n",
              "      <td>0.0</td>\n",
              "      <td>0.0</td>\n",
              "      <td>0.0</td>\n",
              "      <td>0.197340</td>\n",
              "    </tr>\n",
              "    <tr>\n",
              "      <th>2013-12-18</th>\n",
              "      <td>2013-12-18</td>\n",
              "      <td>0.205744</td>\n",
              "      <td>0.140526</td>\n",
              "      <td>0.256697</td>\n",
              "      <td>0.205744</td>\n",
              "      <td>0.205744</td>\n",
              "      <td>-0.114260</td>\n",
              "      <td>-0.114260</td>\n",
              "      <td>-0.114260</td>\n",
              "      <td>-0.216517</td>\n",
              "      <td>-0.216517</td>\n",
              "      <td>-0.216517</td>\n",
              "      <td>-0.936363</td>\n",
              "      <td>-0.936363</td>\n",
              "      <td>-0.936363</td>\n",
              "      <td>1.275664</td>\n",
              "      <td>1.275664</td>\n",
              "      <td>1.275664</td>\n",
              "      <td>-0.006498</td>\n",
              "      <td>-0.006498</td>\n",
              "      <td>-0.006498</td>\n",
              "      <td>0.008524</td>\n",
              "      <td>0.008524</td>\n",
              "      <td>0.008524</td>\n",
              "      <td>-0.015022</td>\n",
              "      <td>-0.015022</td>\n",
              "      <td>-0.015022</td>\n",
              "      <td>0.0</td>\n",
              "      <td>0.0</td>\n",
              "      <td>0.0</td>\n",
              "      <td>0.199246</td>\n",
              "    </tr>\n",
              "    <tr>\n",
              "      <th>2013-12-19</th>\n",
              "      <td>2013-12-19</td>\n",
              "      <td>0.205662</td>\n",
              "      <td>0.139374</td>\n",
              "      <td>0.260103</td>\n",
              "      <td>0.205662</td>\n",
              "      <td>0.205662</td>\n",
              "      <td>-0.114428</td>\n",
              "      <td>-0.114428</td>\n",
              "      <td>-0.114428</td>\n",
              "      <td>-0.215356</td>\n",
              "      <td>-0.215356</td>\n",
              "      <td>-0.215356</td>\n",
              "      <td>-0.935793</td>\n",
              "      <td>-0.935793</td>\n",
              "      <td>-0.935793</td>\n",
              "      <td>1.274031</td>\n",
              "      <td>1.274031</td>\n",
              "      <td>1.274031</td>\n",
              "      <td>-0.006552</td>\n",
              "      <td>-0.006552</td>\n",
              "      <td>-0.006552</td>\n",
              "      <td>0.008454</td>\n",
              "      <td>0.008454</td>\n",
              "      <td>0.008454</td>\n",
              "      <td>-0.015005</td>\n",
              "      <td>-0.015005</td>\n",
              "      <td>-0.015005</td>\n",
              "      <td>0.0</td>\n",
              "      <td>0.0</td>\n",
              "      <td>0.0</td>\n",
              "      <td>0.199110</td>\n",
              "    </tr>\n",
              "    <tr>\n",
              "      <th>2013-12-20</th>\n",
              "      <td>2013-12-20</td>\n",
              "      <td>0.205580</td>\n",
              "      <td>0.138841</td>\n",
              "      <td>0.252114</td>\n",
              "      <td>0.205580</td>\n",
              "      <td>0.205580</td>\n",
              "      <td>-0.115068</td>\n",
              "      <td>-0.115068</td>\n",
              "      <td>-0.115068</td>\n",
              "      <td>-0.219895</td>\n",
              "      <td>-0.219895</td>\n",
              "      <td>-0.219895</td>\n",
              "      <td>-0.945294</td>\n",
              "      <td>-0.945294</td>\n",
              "      <td>-0.945294</td>\n",
              "      <td>1.287588</td>\n",
              "      <td>1.287588</td>\n",
              "      <td>1.287588</td>\n",
              "      <td>-0.007714</td>\n",
              "      <td>-0.007714</td>\n",
              "      <td>-0.007714</td>\n",
              "      <td>0.007331</td>\n",
              "      <td>0.007331</td>\n",
              "      <td>0.007331</td>\n",
              "      <td>-0.015045</td>\n",
              "      <td>-0.015045</td>\n",
              "      <td>-0.015045</td>\n",
              "      <td>0.0</td>\n",
              "      <td>0.0</td>\n",
              "      <td>0.0</td>\n",
              "      <td>0.197867</td>\n",
              "    </tr>\n",
              "    <tr>\n",
              "      <th>2013-12-23</th>\n",
              "      <td>2013-12-23</td>\n",
              "      <td>0.205335</td>\n",
              "      <td>0.139155</td>\n",
              "      <td>0.256165</td>\n",
              "      <td>0.205335</td>\n",
              "      <td>0.205335</td>\n",
              "      <td>-0.116184</td>\n",
              "      <td>-0.116184</td>\n",
              "      <td>-0.116184</td>\n",
              "      <td>-0.224197</td>\n",
              "      <td>-0.224197</td>\n",
              "      <td>-0.224197</td>\n",
              "      <td>-0.956088</td>\n",
              "      <td>-0.956088</td>\n",
              "      <td>-0.956088</td>\n",
              "      <td>1.302622</td>\n",
              "      <td>1.302622</td>\n",
              "      <td>1.302622</td>\n",
              "      <td>-0.009147</td>\n",
              "      <td>-0.009147</td>\n",
              "      <td>-0.009147</td>\n",
              "      <td>0.006153</td>\n",
              "      <td>0.006153</td>\n",
              "      <td>0.006153</td>\n",
              "      <td>-0.015300</td>\n",
              "      <td>-0.015300</td>\n",
              "      <td>-0.015300</td>\n",
              "      <td>0.0</td>\n",
              "      <td>0.0</td>\n",
              "      <td>0.0</td>\n",
              "      <td>0.196188</td>\n",
              "    </tr>\n",
              "    <tr>\n",
              "      <th>...</th>\n",
              "      <td>...</td>\n",
              "      <td>...</td>\n",
              "      <td>...</td>\n",
              "      <td>...</td>\n",
              "      <td>...</td>\n",
              "      <td>...</td>\n",
              "      <td>...</td>\n",
              "      <td>...</td>\n",
              "      <td>...</td>\n",
              "      <td>...</td>\n",
              "      <td>...</td>\n",
              "      <td>...</td>\n",
              "      <td>...</td>\n",
              "      <td>...</td>\n",
              "      <td>...</td>\n",
              "      <td>...</td>\n",
              "      <td>...</td>\n",
              "      <td>...</td>\n",
              "      <td>...</td>\n",
              "      <td>...</td>\n",
              "      <td>...</td>\n",
              "      <td>...</td>\n",
              "      <td>...</td>\n",
              "      <td>...</td>\n",
              "      <td>...</td>\n",
              "      <td>...</td>\n",
              "      <td>...</td>\n",
              "      <td>...</td>\n",
              "      <td>...</td>\n",
              "      <td>...</td>\n",
              "      <td>...</td>\n",
              "    </tr>\n",
              "    <tr>\n",
              "      <th>2019-12-23</th>\n",
              "      <td>2019-12-23</td>\n",
              "      <td>0.026329</td>\n",
              "      <td>-1.237117</td>\n",
              "      <td>2.728459</td>\n",
              "      <td>-1.979433</td>\n",
              "      <td>1.986126</td>\n",
              "      <td>-0.302454</td>\n",
              "      <td>-0.302454</td>\n",
              "      <td>-0.302454</td>\n",
              "      <td>-0.691463</td>\n",
              "      <td>-0.691463</td>\n",
              "      <td>-0.691463</td>\n",
              "      <td>-1.735385</td>\n",
              "      <td>-1.735385</td>\n",
              "      <td>-1.735385</td>\n",
              "      <td>3.473017</td>\n",
              "      <td>3.473017</td>\n",
              "      <td>3.473017</td>\n",
              "      <td>0.728377</td>\n",
              "      <td>0.728377</td>\n",
              "      <td>0.728377</td>\n",
              "      <td>0.743716</td>\n",
              "      <td>0.743716</td>\n",
              "      <td>0.743716</td>\n",
              "      <td>-0.015339</td>\n",
              "      <td>-0.015339</td>\n",
              "      <td>-0.015339</td>\n",
              "      <td>0.0</td>\n",
              "      <td>0.0</td>\n",
              "      <td>0.0</td>\n",
              "      <td>0.754707</td>\n",
              "    </tr>\n",
              "    <tr>\n",
              "      <th>2019-12-26</th>\n",
              "      <td>2019-12-26</td>\n",
              "      <td>0.026084</td>\n",
              "      <td>-1.254440</td>\n",
              "      <td>2.708178</td>\n",
              "      <td>-1.982704</td>\n",
              "      <td>1.989594</td>\n",
              "      <td>-0.303515</td>\n",
              "      <td>-0.303515</td>\n",
              "      <td>-0.303515</td>\n",
              "      <td>-0.698938</td>\n",
              "      <td>-0.698938</td>\n",
              "      <td>-0.698938</td>\n",
              "      <td>-1.744009</td>\n",
              "      <td>-1.744009</td>\n",
              "      <td>-1.744009</td>\n",
              "      <td>3.497737</td>\n",
              "      <td>3.497737</td>\n",
              "      <td>3.497737</td>\n",
              "      <td>0.736336</td>\n",
              "      <td>0.736336</td>\n",
              "      <td>0.736336</td>\n",
              "      <td>0.751274</td>\n",
              "      <td>0.751274</td>\n",
              "      <td>0.751274</td>\n",
              "      <td>-0.014939</td>\n",
              "      <td>-0.014939</td>\n",
              "      <td>-0.014939</td>\n",
              "      <td>0.0</td>\n",
              "      <td>0.0</td>\n",
              "      <td>0.0</td>\n",
              "      <td>0.762420</td>\n",
              "    </tr>\n",
              "    <tr>\n",
              "      <th>2019-12-27</th>\n",
              "      <td>2019-12-27</td>\n",
              "      <td>0.026003</td>\n",
              "      <td>-1.266257</td>\n",
              "      <td>2.746220</td>\n",
              "      <td>-1.984674</td>\n",
              "      <td>1.990696</td>\n",
              "      <td>-0.303878</td>\n",
              "      <td>-0.303878</td>\n",
              "      <td>-0.303878</td>\n",
              "      <td>-0.697402</td>\n",
              "      <td>-0.697402</td>\n",
              "      <td>-0.697402</td>\n",
              "      <td>-1.744803</td>\n",
              "      <td>-1.744803</td>\n",
              "      <td>-1.744803</td>\n",
              "      <td>3.497908</td>\n",
              "      <td>3.497908</td>\n",
              "      <td>3.497908</td>\n",
              "      <td>0.737246</td>\n",
              "      <td>0.737246</td>\n",
              "      <td>0.737246</td>\n",
              "      <td>0.751826</td>\n",
              "      <td>0.751826</td>\n",
              "      <td>0.751826</td>\n",
              "      <td>-0.014580</td>\n",
              "      <td>-0.014580</td>\n",
              "      <td>-0.014580</td>\n",
              "      <td>0.0</td>\n",
              "      <td>0.0</td>\n",
              "      <td>0.0</td>\n",
              "      <td>0.763248</td>\n",
              "    </tr>\n",
              "    <tr>\n",
              "      <th>2019-12-30</th>\n",
              "      <td>2019-12-30</td>\n",
              "      <td>0.025757</td>\n",
              "      <td>-1.248094</td>\n",
              "      <td>2.731478</td>\n",
              "      <td>-1.990583</td>\n",
              "      <td>1.993836</td>\n",
              "      <td>-0.301095</td>\n",
              "      <td>-0.301095</td>\n",
              "      <td>-0.301095</td>\n",
              "      <td>-0.691496</td>\n",
              "      <td>-0.691496</td>\n",
              "      <td>-0.691496</td>\n",
              "      <td>-1.730300</td>\n",
              "      <td>-1.730300</td>\n",
              "      <td>-1.730300</td>\n",
              "      <td>3.468789</td>\n",
              "      <td>3.468789</td>\n",
              "      <td>3.468789</td>\n",
              "      <td>0.733056</td>\n",
              "      <td>0.733056</td>\n",
              "      <td>0.733056</td>\n",
              "      <td>0.745898</td>\n",
              "      <td>0.745898</td>\n",
              "      <td>0.745898</td>\n",
              "      <td>-0.012842</td>\n",
              "      <td>-0.012842</td>\n",
              "      <td>-0.012842</td>\n",
              "      <td>0.0</td>\n",
              "      <td>0.0</td>\n",
              "      <td>0.0</td>\n",
              "      <td>0.758814</td>\n",
              "    </tr>\n",
              "    <tr>\n",
              "      <th>2019-12-31</th>\n",
              "      <td>2019-12-31</td>\n",
              "      <td>0.025676</td>\n",
              "      <td>-1.263848</td>\n",
              "      <td>2.749964</td>\n",
              "      <td>-1.992553</td>\n",
              "      <td>1.994883</td>\n",
              "      <td>-0.302255</td>\n",
              "      <td>-0.302255</td>\n",
              "      <td>-0.302255</td>\n",
              "      <td>-0.694088</td>\n",
              "      <td>-0.694088</td>\n",
              "      <td>-0.694088</td>\n",
              "      <td>-1.738167</td>\n",
              "      <td>-1.738167</td>\n",
              "      <td>-1.738167</td>\n",
              "      <td>3.483543</td>\n",
              "      <td>3.483543</td>\n",
              "      <td>3.483543</td>\n",
              "      <td>0.736933</td>\n",
              "      <td>0.736933</td>\n",
              "      <td>0.736933</td>\n",
              "      <td>0.749034</td>\n",
              "      <td>0.749034</td>\n",
              "      <td>0.749034</td>\n",
              "      <td>-0.012100</td>\n",
              "      <td>-0.012100</td>\n",
              "      <td>-0.012100</td>\n",
              "      <td>0.0</td>\n",
              "      <td>0.0</td>\n",
              "      <td>0.0</td>\n",
              "      <td>0.762609</td>\n",
              "    </tr>\n",
              "  </tbody>\n",
              "</table>\n",
              "<p>1506 rows × 31 columns</p>\n",
              "</div>"
            ],
            "text/plain": [
              "                   ds     trend  ...  multiplicative_terms_upper      yhat\n",
              "ds                               ...                                      \n",
              "2013-12-17 2013-12-17  0.205825  ...                         0.0  0.197340\n",
              "2013-12-18 2013-12-18  0.205744  ...                         0.0  0.199246\n",
              "2013-12-19 2013-12-19  0.205662  ...                         0.0  0.199110\n",
              "2013-12-20 2013-12-20  0.205580  ...                         0.0  0.197867\n",
              "2013-12-23 2013-12-23  0.205335  ...                         0.0  0.196188\n",
              "...               ...       ...  ...                         ...       ...\n",
              "2019-12-23 2019-12-23  0.026329  ...                         0.0  0.754707\n",
              "2019-12-26 2019-12-26  0.026084  ...                         0.0  0.762420\n",
              "2019-12-27 2019-12-27  0.026003  ...                         0.0  0.763248\n",
              "2019-12-30 2019-12-30  0.025757  ...                         0.0  0.758814\n",
              "2019-12-31 2019-12-31  0.025676  ...                         0.0  0.762609\n",
              "\n",
              "[1506 rows x 31 columns]"
            ]
          },
          "metadata": {
            "tags": []
          },
          "execution_count": 52
        }
      ]
    },
    {
      "cell_type": "code",
      "metadata": {
        "id": "oXZ5kYm9mmxr",
        "colab_type": "code",
        "colab": {
          "base_uri": "https://localhost:8080/",
          "height": 441
        },
        "outputId": "a3ba993d-134a-4013-8674-bae67bc47a7e"
      },
      "source": [
        "fig1 = model.plot(pred)"
      ],
      "execution_count": 53,
      "outputs": [
        {
          "output_type": "display_data",
          "data": {
            "image/png": "[encoded data removed]",
            "text/plain": [
              "<Figure size 720x432 with 1 Axes>"
            ]
          },
          "metadata": {
            "tags": []
          }
        }
      ]
    },
    {
      "cell_type": "code",
      "metadata": {
        "id": "19hGYBQynxM_",
        "colab_type": "code",
        "colab": {
          "base_uri": "https://localhost:8080/",
          "height": 657
        },
        "outputId": "97697b50-96e3-4311-d52e-4a5d4dc64b60"
      },
      "source": [
        "fig2 = model.plot_components(pred)"
      ],
      "execution_count": 54,
      "outputs": [
        {
          "output_type": "display_data",
          "data": {
            "image/png": "[encoded data removed]",
            "text/plain": [
              "<Figure size 648x648 with 3 Axes>"
            ]
          },
          "metadata": {
            "tags": []
          }
        }
      ]
    },
    {
      "cell_type": "code",
      "metadata": {
        "id": "FWG8i1UWH6Ub",
        "colab_type": "code",
        "colab": {}
      },
      "source": [
        "y=np.array(test['y']).reshape(-1,1)\n",
        "yt = uscaler.inverse_transform(y)\n",
        "yt = np.array(yt).flatten()\n",
        "yt = pd.Series(yt, index=test.index)"
      ],
      "execution_count": 55,
      "outputs": []
    },
    {
      "cell_type": "code",
      "metadata": {
        "id": "-zOyPZMK8qMi",
        "colab_type": "code",
        "colab": {}
      },
      "source": [
        "p = pred['yhat']\n",
        "y=np.array(p).reshape(-1,1)\n",
        "pt = uscaler.inverse_transform(y)\n",
        "pt = np.array(pt).flatten()\n",
        "pt = pd.Series(pt, index=test.index)"
      ],
      "execution_count": 56,
      "outputs": []
    },
    {
      "cell_type": "code",
      "metadata": {
        "id": "vUXl6e8QMMeL",
        "colab_type": "code",
        "colab": {
          "base_uri": "https://localhost:8080/",
          "height": 514
        },
        "outputId": "e1505f5f-ec48-4a1a-ea83-21fa0baca458"
      },
      "source": [
        "plt.figure(figsize=(15,8))\n",
        "plt.plot(yt)\n",
        "plt.plot(pt)\n",
        "plt.xlabel('Year')\n",
        "plt.ylabel('Values')\n",
        "plt.legend(['Original','Predicted'])"
      ],
      "execution_count": 57,
      "outputs": [
        {
          "output_type": "execute_result",
          "data": {
            "text/plain": [
              "<matplotlib.legend.Legend at 0x7f70887a0f60>"
            ]
          },
          "metadata": {
            "tags": []
          },
          "execution_count": 57
        },
        {
          "output_type": "display_data",
          "data": {
            "image/png": "[encoded data removed]",
            "text/plain": [
              "<Figure size 1080x576 with 1 Axes>"
            ]
          },
          "metadata": {
            "tags": [],
            "needs_background": "light"
          }
        }
      ]
    },
    {
      "cell_type": "code",
      "metadata": {
        "id": "_dUebFiZNL1k",
        "colab_type": "code",
        "colab": {
          "base_uri": "https://localhost:8080/",
          "height": 70
        },
        "outputId": "2eb80f04-d7e3-4c82-ec1b-e7e2d8a20cc4"
      },
      "source": [
        "from math import sqrt\n",
        "from sklearn.metrics import mean_squared_error, mean_absolute_error\n",
        "\n",
        "rmse = math.sqrt(mean_squared_error(yt, pt))\n",
        "print('Root Mean Squared Error: %.3f'% rmse)\n",
        "mae = mean_absolute_error(yt, pt)\n",
        "print('Mean Absolute Error: %.3f'% mae)\n",
        "mape = np.mean(np.abs(pt - yt)/np.abs(yt))\n",
        "print('Mean Absolute Percentage Error: %.3f'% (mape))"
      ],
      "execution_count": 58,
      "outputs": [
        {
          "output_type": "stream",
          "text": [
            "Root Mean Squared Error: 5.707\n",
            "Mean Absolute Error: 4.833\n",
            "Mean Absolute Percentage Error: 0.050\n"
          ],
          "name": "stdout"
        }
      ]
    },
    {
      "cell_type": "code",
      "metadata": {
        "id": "u40Qd1rcYauC",
        "colab_type": "code",
        "colab": {
          "base_uri": "https://localhost:8080/",
          "height": 531
        },
        "outputId": "6c2dbe71-0eaf-4ca8-a903-04d035fedf75"
      },
      "source": [
        "from fbprophet import Prophet\n",
        "\n",
        "model = Prophet()\n",
        "model.add_regressor('DJAI')\n",
        "model.add_regressor('NASDAQ')\n",
        "model.add_regressor('NYSE')\n",
        "model.add_regressor('S&P')\n",
        "model.fit(df)\n",
        "\n",
        "pred=model.predict(test.drop('y', axis=1))\n",
        "pred.index = pred['ds']\n",
        "p = pred['yhat']\n",
        "y=np.array(p).reshape(-1,1)\n",
        "pt1 = uscaler.inverse_transform(y)\n",
        "pt1 = np.array(pt1).flatten()\n",
        "pt1 = pd.Series(pt1, index=test.index)\n",
        "\n",
        "plt.figure(figsize=(15,8))\n",
        "plt.plot(yt)\n",
        "plt.plot(pt1)\n",
        "plt.xlabel('Year')\n",
        "plt.ylabel('Values')\n",
        "plt.legend(['Original','Predicted'])"
      ],
      "execution_count": 46,
      "outputs": [
        {
          "output_type": "stream",
          "text": [
            "INFO:fbprophet:Disabling daily seasonality. Run prophet with daily_seasonality=True to override this.\n"
          ],
          "name": "stderr"
        },
        {
          "output_type": "execute_result",
          "data": {
            "text/plain": [
              "<matplotlib.legend.Legend at 0x7f70886aeba8>"
            ]
          },
          "metadata": {
            "tags": []
          },
          "execution_count": 46
        },
        {
          "output_type": "display_data",
          "data": {
            "image/png": "[encoded data removed]",
            "text/plain": [
              "<Figure size 1080x576 with 1 Axes>"
            ]
          },
          "metadata": {
            "tags": [],
            "needs_background": "light"
          }
        }
      ]
    },
    {
      "cell_type": "code",
      "metadata": {
        "id": "v5pL7M98YzZg",
        "colab_type": "code",
        "colab": {
          "base_uri": "https://localhost:8080/",
          "height": 70
        },
        "outputId": "d66dbafd-b1ee-4f5e-d937-683fa473618e"
      },
      "source": [
        "from math import sqrt\n",
        "from sklearn.metrics import mean_squared_error, mean_absolute_error\n",
        "\n",
        "rmse = math.sqrt(mean_squared_error(yt, pt1))\n",
        "print('Root Mean Squared Error: %.3f'% rmse)\n",
        "mae = mean_absolute_error(yt, pt1)\n",
        "print('Mean Absolute Error: %.3f'% mae)\n",
        "mape = np.mean(np.abs(pt1 - yt)/np.abs(yt))\n",
        "print('Mean Absolute Percentage Error: %.3f'% (mape))"
      ],
      "execution_count": 47,
      "outputs": [
        {
          "output_type": "stream",
          "text": [
            "Root Mean Squared Error: 5.837\n",
            "Mean Absolute Error: 4.949\n",
            "Mean Absolute Percentage Error: 0.052\n"
          ],
          "name": "stdout"
        }
      ]
    },
    {
      "cell_type": "code",
      "metadata": {
        "id": "S_VDuRVa7RIq",
        "colab_type": "code",
        "colab": {
          "base_uri": "https://localhost:8080/",
          "height": 125
        },
        "outputId": "3d09ab13-ca0e-4534-e23f-bb5b1b7cb874"
      },
      "source": [
        "from google.colab import drive\n",
        "drive.mount('drive')\n",
        "data = pd.DataFrame(columns=['P_yt','P_pt'])\n",
        "data['P_yt'] = yt\n",
        "data['P_pt'] = pt\n",
        "data.to_csv('Finalresult.csv')\n",
        "!cp Finalresult.csv \"drive/My Drive/\""
      ],
      "execution_count": 27,
      "outputs": [
        {
          "output_type": "stream",
          "text": [
            "Go to this URL in a browser: https://accounts.google.com/o/oauth2/auth?client_id=947318989803-6bn6qk8qdgf4n4g3pfee6491hc0brc4i.apps.googleusercontent.com&redirect_uri=urn%3aietf%3awg%3aoauth%3a2.0%3aoob&scope=email%20https%3a%2f%2fwww.googleapis.com%2fauth%2fdocs.test%20https%3a%2f%2fwww.googleapis.com%2fauth%2fdrive%20https%3a%2f%2fwww.googleapis.com%2fauth%2fdrive.photos.readonly%20https%3a%2f%2fwww.googleapis.com%2fauth%2fpeopleapi.readonly&response_type=code\n",
            "\n",
            "Enter your authorization code:\n",
            "··········\n",
            "Mounted at drive\n"
          ],
          "name": "stdout"
        }
      ]
    }
  ]
}