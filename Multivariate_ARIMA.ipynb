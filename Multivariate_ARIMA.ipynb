{
  "nbformat": 4,
  "nbformat_minor": 0,
  "metadata": {
    "colab": {
      "name": "Multivariate ARIMA.ipynb",
      "provenance": [],
      "collapsed_sections": [],
      "authorship_tag": "ABX9TyNUFFi8Yr9XvHQ87Yp29UdS",
      "include_colab_link": true
    },
    "kernelspec": {
      "name": "python3",
      "display_name": "Python 3"
    }
  },
  "cells": [
    {
      "cell_type": "markdown",
      "metadata": {
        "id": "view-in-github",
        "colab_type": "text"
      },
      "source": [
        "<a href=\"https://colab.research.google.com/github/Mrunali95/Thesis/blob/master/Multivariate_ARIMA.ipynb\" target=\"_parent\"><img src=\"https://colab.research.google.com/assets/colab-badge.svg\" alt=\"Open In Colab\"/></a>"
      ]
    },
    {
      "cell_type": "code",
      "metadata": {
        "id": "39thOiF9vP4z",
        "colab_type": "code",
        "colab": {
          "base_uri": "https://localhost:8080/",
          "height": 72
        },
        "outputId": "fe4f5218-f4e9-4c68-d012-8556656b55ba"
      },
      "source": [
        "#Import the libraries\n",
        "import math\n",
        "import pandas_datareader as web\n",
        "import numpy as np\n",
        "import pandas as pd\n",
        "from sklearn.preprocessing import MinMaxScaler\n",
        "import matplotlib.pyplot as plt\n",
        "import seaborn as sns\n",
        "\n",
        "plt.style.use('fivethirtyeight')\n",
        "from matplotlib.pylab import rcParams\n",
        "rcParams['figure.figsize'] = 10,6"
      ],
      "execution_count": 1,
      "outputs": [
        {
          "output_type": "stream",
          "text": [
            "/usr/local/lib/python3.6/dist-packages/pandas_datareader/compat/__init__.py:7: FutureWarning: pandas.util.testing is deprecated. Use the functions in the public API at pandas.testing instead.\n",
            "  from pandas.util.testing import assert_frame_equal\n"
          ],
          "name": "stderr"
        }
      ]
    },
    {
      "cell_type": "code",
      "metadata": {
        "id": "-NXOamkG2e2p",
        "colab_type": "code",
        "colab": {
          "base_uri": "https://localhost:8080/",
          "height": 225
        },
        "outputId": "0036c961-9879-48aa-dfe2-3dc3cca42942"
      },
      "source": [
        "## Download data of US Dollar Index\n",
        "\n",
        "dfUSD = web.DataReader('DX-Y.NYB', data_source='yahoo',start='1990-01-01',end='2020-01-01')\n",
        "\n",
        "dfUSD.head()"
      ],
      "execution_count": 2,
      "outputs": [
        {
          "output_type": "execute_result",
          "data": {
            "text/html": [
              "<div>\n",
              "<style scoped>\n",
              "    .dataframe tbody tr th:only-of-type {\n",
              "        vertical-align: middle;\n",
              "    }\n",
              "\n",
              "    .dataframe tbody tr th {\n",
              "        vertical-align: top;\n",
              "    }\n",
              "\n",
              "    .dataframe thead th {\n",
              "        text-align: right;\n",
              "    }\n",
              "</style>\n",
              "<table border=\"1\" class=\"dataframe\">\n",
              "  <thead>\n",
              "    <tr style=\"text-align: right;\">\n",
              "      <th></th>\n",
              "      <th>High</th>\n",
              "      <th>Low</th>\n",
              "      <th>Open</th>\n",
              "      <th>Close</th>\n",
              "      <th>Volume</th>\n",
              "      <th>Adj Close</th>\n",
              "    </tr>\n",
              "    <tr>\n",
              "      <th>Date</th>\n",
              "      <th></th>\n",
              "      <th></th>\n",
              "      <th></th>\n",
              "      <th></th>\n",
              "      <th></th>\n",
              "      <th></th>\n",
              "    </tr>\n",
              "  </thead>\n",
              "  <tbody>\n",
              "    <tr>\n",
              "      <th>1990-01-01</th>\n",
              "      <td>93.309998</td>\n",
              "      <td>93.080002</td>\n",
              "      <td>93.190002</td>\n",
              "      <td>93.209999</td>\n",
              "      <td>0.0</td>\n",
              "      <td>93.209999</td>\n",
              "    </tr>\n",
              "    <tr>\n",
              "      <th>1990-01-02</th>\n",
              "      <td>94.309998</td>\n",
              "      <td>93.080002</td>\n",
              "      <td>93.129997</td>\n",
              "      <td>94.290001</td>\n",
              "      <td>0.0</td>\n",
              "      <td>94.290001</td>\n",
              "    </tr>\n",
              "    <tr>\n",
              "      <th>1990-01-03</th>\n",
              "      <td>94.519997</td>\n",
              "      <td>94.080002</td>\n",
              "      <td>94.150002</td>\n",
              "      <td>94.419998</td>\n",
              "      <td>0.0</td>\n",
              "      <td>94.419998</td>\n",
              "    </tr>\n",
              "    <tr>\n",
              "      <th>1990-01-04</th>\n",
              "      <td>93.879997</td>\n",
              "      <td>92.389999</td>\n",
              "      <td>93.720001</td>\n",
              "      <td>92.519997</td>\n",
              "      <td>0.0</td>\n",
              "      <td>92.519997</td>\n",
              "    </tr>\n",
              "    <tr>\n",
              "      <th>1990-01-05</th>\n",
              "      <td>93.419998</td>\n",
              "      <td>92.550003</td>\n",
              "      <td>93.339996</td>\n",
              "      <td>92.849998</td>\n",
              "      <td>0.0</td>\n",
              "      <td>92.849998</td>\n",
              "    </tr>\n",
              "  </tbody>\n",
              "</table>\n",
              "</div>"
            ],
            "text/plain": [
              "                 High        Low       Open      Close  Volume  Adj Close\n",
              "Date                                                                     \n",
              "1990-01-01  93.309998  93.080002  93.190002  93.209999     0.0  93.209999\n",
              "1990-01-02  94.309998  93.080002  93.129997  94.290001     0.0  94.290001\n",
              "1990-01-03  94.519997  94.080002  94.150002  94.419998     0.0  94.419998\n",
              "1990-01-04  93.879997  92.389999  93.720001  92.519997     0.0  92.519997\n",
              "1990-01-05  93.419998  92.550003  93.339996  92.849998     0.0  92.849998"
            ]
          },
          "metadata": {
            "tags": []
          },
          "execution_count": 2
        }
      ]
    },
    {
      "cell_type": "code",
      "metadata": {
        "id": "9RyXv6UB3Yhb",
        "colab_type": "code",
        "colab": {
          "base_uri": "https://localhost:8080/",
          "height": 225
        },
        "outputId": "67e204b3-209d-4fd0-be81-e75ca3d41213"
      },
      "source": [
        "## download data of NASDAQ index\n",
        "\n",
        "dfnasdaq = web.DataReader('^IXIC', data_source='yahoo',start='1990-01-01',end='2020-01-01')\n",
        "\n",
        "dfnasdaq.head()"
      ],
      "execution_count": 3,
      "outputs": [
        {
          "output_type": "execute_result",
          "data": {
            "text/html": [
              "<div>\n",
              "<style scoped>\n",
              "    .dataframe tbody tr th:only-of-type {\n",
              "        vertical-align: middle;\n",
              "    }\n",
              "\n",
              "    .dataframe tbody tr th {\n",
              "        vertical-align: top;\n",
              "    }\n",
              "\n",
              "    .dataframe thead th {\n",
              "        text-align: right;\n",
              "    }\n",
              "</style>\n",
              "<table border=\"1\" class=\"dataframe\">\n",
              "  <thead>\n",
              "    <tr style=\"text-align: right;\">\n",
              "      <th></th>\n",
              "      <th>High</th>\n",
              "      <th>Low</th>\n",
              "      <th>Open</th>\n",
              "      <th>Close</th>\n",
              "      <th>Volume</th>\n",
              "      <th>Adj Close</th>\n",
              "    </tr>\n",
              "    <tr>\n",
              "      <th>Date</th>\n",
              "      <th></th>\n",
              "      <th></th>\n",
              "      <th></th>\n",
              "      <th></th>\n",
              "      <th></th>\n",
              "      <th></th>\n",
              "    </tr>\n",
              "  </thead>\n",
              "  <tbody>\n",
              "    <tr>\n",
              "      <th>1990-01-02</th>\n",
              "      <td>459.299988</td>\n",
              "      <td>452.700012</td>\n",
              "      <td>452.899994</td>\n",
              "      <td>459.299988</td>\n",
              "      <td>110720000</td>\n",
              "      <td>459.299988</td>\n",
              "    </tr>\n",
              "    <tr>\n",
              "      <th>1990-01-03</th>\n",
              "      <td>461.600006</td>\n",
              "      <td>460.000000</td>\n",
              "      <td>461.100006</td>\n",
              "      <td>460.899994</td>\n",
              "      <td>152660000</td>\n",
              "      <td>460.899994</td>\n",
              "    </tr>\n",
              "    <tr>\n",
              "      <th>1990-01-04</th>\n",
              "      <td>460.799988</td>\n",
              "      <td>456.899994</td>\n",
              "      <td>460.399994</td>\n",
              "      <td>459.399994</td>\n",
              "      <td>147950000</td>\n",
              "      <td>459.399994</td>\n",
              "    </tr>\n",
              "    <tr>\n",
              "      <th>1990-01-05</th>\n",
              "      <td>459.399994</td>\n",
              "      <td>457.799988</td>\n",
              "      <td>457.899994</td>\n",
              "      <td>458.200012</td>\n",
              "      <td>137230000</td>\n",
              "      <td>458.200012</td>\n",
              "    </tr>\n",
              "    <tr>\n",
              "      <th>1990-01-08</th>\n",
              "      <td>458.700012</td>\n",
              "      <td>456.500000</td>\n",
              "      <td>457.100006</td>\n",
              "      <td>458.700012</td>\n",
              "      <td>115500000</td>\n",
              "      <td>458.700012</td>\n",
              "    </tr>\n",
              "  </tbody>\n",
              "</table>\n",
              "</div>"
            ],
            "text/plain": [
              "                  High         Low  ...     Volume   Adj Close\n",
              "Date                                ...                       \n",
              "1990-01-02  459.299988  452.700012  ...  110720000  459.299988\n",
              "1990-01-03  461.600006  460.000000  ...  152660000  460.899994\n",
              "1990-01-04  460.799988  456.899994  ...  147950000  459.399994\n",
              "1990-01-05  459.399994  457.799988  ...  137230000  458.200012\n",
              "1990-01-08  458.700012  456.500000  ...  115500000  458.700012\n",
              "\n",
              "[5 rows x 6 columns]"
            ]
          },
          "metadata": {
            "tags": []
          },
          "execution_count": 3
        }
      ]
    },
    {
      "cell_type": "code",
      "metadata": {
        "id": "zpJthkPZuzjF",
        "colab_type": "code",
        "colab": {
          "base_uri": "https://localhost:8080/",
          "height": 225
        },
        "outputId": "67f3ccda-3567-4c5c-ebd3-fca22cfdb4f0"
      },
      "source": [
        "## download data of Dow Jones Industrial Average index\n",
        "\n",
        "dfdaia = web.DataReader('^DJI', data_source='yahoo',start='1990-01-01',end='2020-01-01')\n",
        "\n",
        "dfdaia.head()"
      ],
      "execution_count": 4,
      "outputs": [
        {
          "output_type": "execute_result",
          "data": {
            "text/html": [
              "<div>\n",
              "<style scoped>\n",
              "    .dataframe tbody tr th:only-of-type {\n",
              "        vertical-align: middle;\n",
              "    }\n",
              "\n",
              "    .dataframe tbody tr th {\n",
              "        vertical-align: top;\n",
              "    }\n",
              "\n",
              "    .dataframe thead th {\n",
              "        text-align: right;\n",
              "    }\n",
              "</style>\n",
              "<table border=\"1\" class=\"dataframe\">\n",
              "  <thead>\n",
              "    <tr style=\"text-align: right;\">\n",
              "      <th></th>\n",
              "      <th>High</th>\n",
              "      <th>Low</th>\n",
              "      <th>Open</th>\n",
              "      <th>Close</th>\n",
              "      <th>Volume</th>\n",
              "      <th>Adj Close</th>\n",
              "    </tr>\n",
              "    <tr>\n",
              "      <th>Date</th>\n",
              "      <th></th>\n",
              "      <th></th>\n",
              "      <th></th>\n",
              "      <th></th>\n",
              "      <th></th>\n",
              "      <th></th>\n",
              "    </tr>\n",
              "  </thead>\n",
              "  <tbody>\n",
              "    <tr>\n",
              "      <th>1990-01-02</th>\n",
              "      <td>2811.649902</td>\n",
              "      <td>2732.510010</td>\n",
              "      <td>2748.719971</td>\n",
              "      <td>2810.149902</td>\n",
              "      <td>20680000</td>\n",
              "      <td>2810.149902</td>\n",
              "    </tr>\n",
              "    <tr>\n",
              "      <th>1990-01-03</th>\n",
              "      <td>2834.040039</td>\n",
              "      <td>2786.260010</td>\n",
              "      <td>2814.199951</td>\n",
              "      <td>2809.729980</td>\n",
              "      <td>23620000</td>\n",
              "      <td>2809.729980</td>\n",
              "    </tr>\n",
              "    <tr>\n",
              "      <th>1990-01-04</th>\n",
              "      <td>2821.459961</td>\n",
              "      <td>2766.419922</td>\n",
              "      <td>2804.389893</td>\n",
              "      <td>2796.080078</td>\n",
              "      <td>24370000</td>\n",
              "      <td>2796.080078</td>\n",
              "    </tr>\n",
              "    <tr>\n",
              "      <th>1990-01-05</th>\n",
              "      <td>2810.149902</td>\n",
              "      <td>2758.110107</td>\n",
              "      <td>2786.899902</td>\n",
              "      <td>2773.250000</td>\n",
              "      <td>20290000</td>\n",
              "      <td>2773.250000</td>\n",
              "    </tr>\n",
              "    <tr>\n",
              "      <th>1990-01-08</th>\n",
              "      <td>2803.969971</td>\n",
              "      <td>2753.409912</td>\n",
              "      <td>2761.729980</td>\n",
              "      <td>2794.370117</td>\n",
              "      <td>16610000</td>\n",
              "      <td>2794.370117</td>\n",
              "    </tr>\n",
              "  </tbody>\n",
              "</table>\n",
              "</div>"
            ],
            "text/plain": [
              "                   High          Low  ...    Volume    Adj Close\n",
              "Date                                  ...                       \n",
              "1990-01-02  2811.649902  2732.510010  ...  20680000  2810.149902\n",
              "1990-01-03  2834.040039  2786.260010  ...  23620000  2809.729980\n",
              "1990-01-04  2821.459961  2766.419922  ...  24370000  2796.080078\n",
              "1990-01-05  2810.149902  2758.110107  ...  20290000  2773.250000\n",
              "1990-01-08  2803.969971  2753.409912  ...  16610000  2794.370117\n",
              "\n",
              "[5 rows x 6 columns]"
            ]
          },
          "metadata": {
            "tags": []
          },
          "execution_count": 4
        }
      ]
    },
    {
      "cell_type": "code",
      "metadata": {
        "id": "hYgDLPXxvGgE",
        "colab_type": "code",
        "colab": {
          "base_uri": "https://localhost:8080/",
          "height": 225
        },
        "outputId": "1c961a57-5a66-48a3-af9d-3d6f1d09c98f"
      },
      "source": [
        "## download data of S&P 500 index\n",
        "\n",
        "dfsp = web.DataReader('^GSPC', data_source='yahoo',start='1990-01-01',end='2020-01-01')\n",
        "\n",
        "dfsp.head()"
      ],
      "execution_count": 5,
      "outputs": [
        {
          "output_type": "execute_result",
          "data": {
            "text/html": [
              "<div>\n",
              "<style scoped>\n",
              "    .dataframe tbody tr th:only-of-type {\n",
              "        vertical-align: middle;\n",
              "    }\n",
              "\n",
              "    .dataframe tbody tr th {\n",
              "        vertical-align: top;\n",
              "    }\n",
              "\n",
              "    .dataframe thead th {\n",
              "        text-align: right;\n",
              "    }\n",
              "</style>\n",
              "<table border=\"1\" class=\"dataframe\">\n",
              "  <thead>\n",
              "    <tr style=\"text-align: right;\">\n",
              "      <th></th>\n",
              "      <th>High</th>\n",
              "      <th>Low</th>\n",
              "      <th>Open</th>\n",
              "      <th>Close</th>\n",
              "      <th>Volume</th>\n",
              "      <th>Adj Close</th>\n",
              "    </tr>\n",
              "    <tr>\n",
              "      <th>Date</th>\n",
              "      <th></th>\n",
              "      <th></th>\n",
              "      <th></th>\n",
              "      <th></th>\n",
              "      <th></th>\n",
              "      <th></th>\n",
              "    </tr>\n",
              "  </thead>\n",
              "  <tbody>\n",
              "    <tr>\n",
              "      <th>1990-01-02</th>\n",
              "      <td>359.690002</td>\n",
              "      <td>351.980011</td>\n",
              "      <td>353.399994</td>\n",
              "      <td>359.690002</td>\n",
              "      <td>162070000</td>\n",
              "      <td>359.690002</td>\n",
              "    </tr>\n",
              "    <tr>\n",
              "      <th>1990-01-03</th>\n",
              "      <td>360.589996</td>\n",
              "      <td>357.890015</td>\n",
              "      <td>359.690002</td>\n",
              "      <td>358.760010</td>\n",
              "      <td>192330000</td>\n",
              "      <td>358.760010</td>\n",
              "    </tr>\n",
              "    <tr>\n",
              "      <th>1990-01-04</th>\n",
              "      <td>358.760010</td>\n",
              "      <td>352.890015</td>\n",
              "      <td>358.760010</td>\n",
              "      <td>355.670013</td>\n",
              "      <td>177000000</td>\n",
              "      <td>355.670013</td>\n",
              "    </tr>\n",
              "    <tr>\n",
              "      <th>1990-01-05</th>\n",
              "      <td>355.670013</td>\n",
              "      <td>351.350006</td>\n",
              "      <td>355.670013</td>\n",
              "      <td>352.200012</td>\n",
              "      <td>158530000</td>\n",
              "      <td>352.200012</td>\n",
              "    </tr>\n",
              "    <tr>\n",
              "      <th>1990-01-08</th>\n",
              "      <td>354.239990</td>\n",
              "      <td>350.540009</td>\n",
              "      <td>352.200012</td>\n",
              "      <td>353.790009</td>\n",
              "      <td>140110000</td>\n",
              "      <td>353.790009</td>\n",
              "    </tr>\n",
              "  </tbody>\n",
              "</table>\n",
              "</div>"
            ],
            "text/plain": [
              "                  High         Low  ...     Volume   Adj Close\n",
              "Date                                ...                       \n",
              "1990-01-02  359.690002  351.980011  ...  162070000  359.690002\n",
              "1990-01-03  360.589996  357.890015  ...  192330000  358.760010\n",
              "1990-01-04  358.760010  352.890015  ...  177000000  355.670013\n",
              "1990-01-05  355.670013  351.350006  ...  158530000  352.200012\n",
              "1990-01-08  354.239990  350.540009  ...  140110000  353.790009\n",
              "\n",
              "[5 rows x 6 columns]"
            ]
          },
          "metadata": {
            "tags": []
          },
          "execution_count": 5
        }
      ]
    },
    {
      "cell_type": "code",
      "metadata": {
        "id": "QnJZHxMuvUAF",
        "colab_type": "code",
        "colab": {
          "base_uri": "https://localhost:8080/",
          "height": 225
        },
        "outputId": "d6dabb8b-60dd-4a7b-c8b3-1fc2c041b75b"
      },
      "source": [
        "## download data of NYSE index\n",
        "\n",
        "dfnyse = web.DataReader('^NYA', data_source='yahoo',start='1990-01-01',end='2020-01-01')\n",
        "\n",
        "dfnyse.head()"
      ],
      "execution_count": 6,
      "outputs": [
        {
          "output_type": "execute_result",
          "data": {
            "text/html": [
              "<div>\n",
              "<style scoped>\n",
              "    .dataframe tbody tr th:only-of-type {\n",
              "        vertical-align: middle;\n",
              "    }\n",
              "\n",
              "    .dataframe tbody tr th {\n",
              "        vertical-align: top;\n",
              "    }\n",
              "\n",
              "    .dataframe thead th {\n",
              "        text-align: right;\n",
              "    }\n",
              "</style>\n",
              "<table border=\"1\" class=\"dataframe\">\n",
              "  <thead>\n",
              "    <tr style=\"text-align: right;\">\n",
              "      <th></th>\n",
              "      <th>High</th>\n",
              "      <th>Low</th>\n",
              "      <th>Open</th>\n",
              "      <th>Close</th>\n",
              "      <th>Volume</th>\n",
              "      <th>Adj Close</th>\n",
              "    </tr>\n",
              "    <tr>\n",
              "      <th>Date</th>\n",
              "      <th></th>\n",
              "      <th></th>\n",
              "      <th></th>\n",
              "      <th></th>\n",
              "      <th></th>\n",
              "      <th></th>\n",
              "    </tr>\n",
              "  </thead>\n",
              "  <tbody>\n",
              "    <tr>\n",
              "      <th>1990-01-02</th>\n",
              "      <td>2093.600098</td>\n",
              "      <td>2093.600098</td>\n",
              "      <td>2093.600098</td>\n",
              "      <td>2093.600098</td>\n",
              "      <td>0</td>\n",
              "      <td>2093.600098</td>\n",
              "    </tr>\n",
              "    <tr>\n",
              "      <th>1990-01-03</th>\n",
              "      <td>2091.479980</td>\n",
              "      <td>2091.479980</td>\n",
              "      <td>2091.479980</td>\n",
              "      <td>2091.479980</td>\n",
              "      <td>0</td>\n",
              "      <td>2091.479980</td>\n",
              "    </tr>\n",
              "    <tr>\n",
              "      <th>1990-01-04</th>\n",
              "      <td>2075.520020</td>\n",
              "      <td>2075.520020</td>\n",
              "      <td>2075.520020</td>\n",
              "      <td>2075.520020</td>\n",
              "      <td>0</td>\n",
              "      <td>2075.520020</td>\n",
              "    </tr>\n",
              "    <tr>\n",
              "      <th>1990-01-05</th>\n",
              "      <td>2058.070068</td>\n",
              "      <td>2058.070068</td>\n",
              "      <td>2058.070068</td>\n",
              "      <td>2058.070068</td>\n",
              "      <td>0</td>\n",
              "      <td>2058.070068</td>\n",
              "    </tr>\n",
              "    <tr>\n",
              "      <th>1990-01-08</th>\n",
              "      <td>2065.370117</td>\n",
              "      <td>2065.370117</td>\n",
              "      <td>2065.370117</td>\n",
              "      <td>2065.370117</td>\n",
              "      <td>0</td>\n",
              "      <td>2065.370117</td>\n",
              "    </tr>\n",
              "  </tbody>\n",
              "</table>\n",
              "</div>"
            ],
            "text/plain": [
              "                   High          Low  ...  Volume    Adj Close\n",
              "Date                                  ...                     \n",
              "1990-01-02  2093.600098  2093.600098  ...       0  2093.600098\n",
              "1990-01-03  2091.479980  2091.479980  ...       0  2091.479980\n",
              "1990-01-04  2075.520020  2075.520020  ...       0  2075.520020\n",
              "1990-01-05  2058.070068  2058.070068  ...       0  2058.070068\n",
              "1990-01-08  2065.370117  2065.370117  ...       0  2065.370117\n",
              "\n",
              "[5 rows x 6 columns]"
            ]
          },
          "metadata": {
            "tags": []
          },
          "execution_count": 6
        }
      ]
    },
    {
      "cell_type": "code",
      "metadata": {
        "id": "31UqqNfdhKzE",
        "colab_type": "code",
        "colab": {}
      },
      "source": [
        "newdfUSD = dfUSD[(dfUSD.index).isin(dfnasdaq.index)]\n"
      ],
      "execution_count": 7,
      "outputs": []
    },
    {
      "cell_type": "code",
      "metadata": {
        "id": "m17_UpOqihkx",
        "colab_type": "code",
        "colab": {}
      },
      "source": [
        "absent = dfdaia[~(dfdaia.index).isin(newdfUSD.index)]"
      ],
      "execution_count": 8,
      "outputs": []
    },
    {
      "cell_type": "code",
      "metadata": {
        "id": "HEnoD6s_t-Dq",
        "colab_type": "code",
        "colab": {}
      },
      "source": [
        "newdfnasdaq = dfnasdaq[~(dfnasdaq.index).isin(absent.index)]\n",
        "newdfdaia = dfdaia[~(dfdaia.index).isin(absent.index)]\n",
        "newdfnyse = dfnyse[~(dfnyse.index).isin(absent.index)]\n",
        "newdfsp = dfsp[~(dfsp.index).isin(absent.index)]"
      ],
      "execution_count": 9,
      "outputs": []
    },
    {
      "cell_type": "code",
      "metadata": {
        "id": "X1rNhwd1KlgS",
        "colab_type": "code",
        "colab": {
          "base_uri": "https://localhost:8080/",
          "height": 225
        },
        "outputId": "76d6f298-6427-4060-e96a-8f25454b5bbf"
      },
      "source": [
        "finaldata = pd.DataFrame(columns=['USD','NASDAQ','DJAI','NYSE','S&P'])\n",
        "\n",
        "finaldata['USD'] = newdfUSD['Close']\n",
        "finaldata['NASDAQ'] = newdfnasdaq['Close']\n",
        "finaldata['DJAI'] = newdfdaia['Close']\n",
        "finaldata['NYSE'] = newdfnyse['Close']\n",
        "finaldata['S&P'] = newdfsp['Close']\n",
        "\n",
        "finaldata.head()"
      ],
      "execution_count": 10,
      "outputs": [
        {
          "output_type": "execute_result",
          "data": {
            "text/html": [
              "<div>\n",
              "<style scoped>\n",
              "    .dataframe tbody tr th:only-of-type {\n",
              "        vertical-align: middle;\n",
              "    }\n",
              "\n",
              "    .dataframe tbody tr th {\n",
              "        vertical-align: top;\n",
              "    }\n",
              "\n",
              "    .dataframe thead th {\n",
              "        text-align: right;\n",
              "    }\n",
              "</style>\n",
              "<table border=\"1\" class=\"dataframe\">\n",
              "  <thead>\n",
              "    <tr style=\"text-align: right;\">\n",
              "      <th></th>\n",
              "      <th>USD</th>\n",
              "      <th>NASDAQ</th>\n",
              "      <th>DJAI</th>\n",
              "      <th>NYSE</th>\n",
              "      <th>S&amp;P</th>\n",
              "    </tr>\n",
              "    <tr>\n",
              "      <th>Date</th>\n",
              "      <th></th>\n",
              "      <th></th>\n",
              "      <th></th>\n",
              "      <th></th>\n",
              "      <th></th>\n",
              "    </tr>\n",
              "  </thead>\n",
              "  <tbody>\n",
              "    <tr>\n",
              "      <th>1990-01-02</th>\n",
              "      <td>94.290001</td>\n",
              "      <td>459.299988</td>\n",
              "      <td>2810.149902</td>\n",
              "      <td>2093.600098</td>\n",
              "      <td>359.690002</td>\n",
              "    </tr>\n",
              "    <tr>\n",
              "      <th>1990-01-03</th>\n",
              "      <td>94.419998</td>\n",
              "      <td>460.899994</td>\n",
              "      <td>2809.729980</td>\n",
              "      <td>2091.479980</td>\n",
              "      <td>358.760010</td>\n",
              "    </tr>\n",
              "    <tr>\n",
              "      <th>1990-01-04</th>\n",
              "      <td>92.519997</td>\n",
              "      <td>459.399994</td>\n",
              "      <td>2796.080078</td>\n",
              "      <td>2075.520020</td>\n",
              "      <td>355.670013</td>\n",
              "    </tr>\n",
              "    <tr>\n",
              "      <th>1990-01-05</th>\n",
              "      <td>92.849998</td>\n",
              "      <td>458.200012</td>\n",
              "      <td>2773.250000</td>\n",
              "      <td>2058.070068</td>\n",
              "      <td>352.200012</td>\n",
              "    </tr>\n",
              "    <tr>\n",
              "      <th>1990-01-08</th>\n",
              "      <td>92.050003</td>\n",
              "      <td>458.700012</td>\n",
              "      <td>2794.370117</td>\n",
              "      <td>2065.370117</td>\n",
              "      <td>353.790009</td>\n",
              "    </tr>\n",
              "  </tbody>\n",
              "</table>\n",
              "</div>"
            ],
            "text/plain": [
              "                  USD      NASDAQ         DJAI         NYSE         S&P\n",
              "Date                                                                   \n",
              "1990-01-02  94.290001  459.299988  2810.149902  2093.600098  359.690002\n",
              "1990-01-03  94.419998  460.899994  2809.729980  2091.479980  358.760010\n",
              "1990-01-04  92.519997  459.399994  2796.080078  2075.520020  355.670013\n",
              "1990-01-05  92.849998  458.200012  2773.250000  2058.070068  352.200012\n",
              "1990-01-08  92.050003  458.700012  2794.370117  2065.370117  353.790009"
            ]
          },
          "metadata": {
            "tags": []
          },
          "execution_count": 10
        }
      ]
    },
    {
      "cell_type": "code",
      "metadata": {
        "id": "AhFycB91jLmG",
        "colab_type": "code",
        "colab": {}
      },
      "source": [
        "train_data= finaldata[0:int(len(finaldata)*0.8)]\n",
        "test_data = finaldata[int(len(finaldata)*0.8):]\n",
        "\n",
        "train_data = np.log(train_data)"
      ],
      "execution_count": 13,
      "outputs": []
    },
    {
      "cell_type": "code",
      "metadata": {
        "id": "6uXNHRVfhwL3",
        "colab_type": "code",
        "colab": {
          "base_uri": "https://localhost:8080/",
          "height": 52
        },
        "outputId": "820f96bf-97d1-4661-95ae-29bf75be54c5"
      },
      "source": [
        "print(len(train_data))\n",
        "print(len(test_data))"
      ],
      "execution_count": 14,
      "outputs": [
        {
          "output_type": "stream",
          "text": [
            "6020\n",
            "1506\n"
          ],
          "name": "stdout"
        }
      ]
    },
    {
      "cell_type": "code",
      "metadata": {
        "id": "jJdUOcR3iA8n",
        "colab_type": "code",
        "colab": {}
      },
      "source": [
        "trainusd = train_data['USD']\n",
        "trainexog = train_data.drop(['USD'], axis=1)\n",
        "\n",
        "testusd = test_data['USD']\n",
        "testexog = test_data.drop(['USD'], axis=1)"
      ],
      "execution_count": 16,
      "outputs": []
    },
    {
      "cell_type": "code",
      "metadata": {
        "id": "9ewGctiKh2wW",
        "colab_type": "code",
        "colab": {
          "base_uri": "https://localhost:8080/",
          "height": 175
        },
        "outputId": "8916fcba-0e60-4f67-e01d-66d140d70a52"
      },
      "source": [
        "from statsmodels.tsa.stattools import adfuller\n",
        "#Perform Dickey-Fuller test:\n",
        "print('Results of Dickey-Fuller Test:')\n",
        "dftest = adfuller(trainusd, autolag='AIC')\n",
        "dfoutput = pd.Series(dftest[0:4], index=['Test Statistic','p-value','#Lags Used','Number of Observations Used'])\n",
        "for key,value in dftest[4].items():\n",
        "  dfoutput['Critical Value (%s)'%key] = value\n",
        "print(dfoutput)"
      ],
      "execution_count": 17,
      "outputs": [
        {
          "output_type": "stream",
          "text": [
            "Results of Dickey-Fuller Test:\n",
            "Test Statistic                   -1.681401\n",
            "p-value                           0.440720\n",
            "#Lags Used                        0.000000\n",
            "Number of Observations Used    6019.000000\n",
            "Critical Value (1%)              -3.431437\n",
            "Critical Value (5%)              -2.862020\n",
            "Critical Value (10%)             -2.567026\n",
            "dtype: float64\n"
          ],
          "name": "stdout"
        }
      ]
    },
    {
      "cell_type": "code",
      "metadata": {
        "id": "z7zPiOGVidiC",
        "colab_type": "code",
        "colab": {}
      },
      "source": [
        "  ## Applying time shifting, we subtract every the point by the one that preceded it to make data stationary\n",
        "  df2 = trainusd - trainusd.shift(273)\n",
        "  df2.dropna(inplace=True)\n",
        "  trainusd_stationary = df2"
      ],
      "execution_count": 18,
      "outputs": []
    },
    {
      "cell_type": "code",
      "metadata": {
        "id": "KMRmnkbxikta",
        "colab_type": "code",
        "colab": {
          "base_uri": "https://localhost:8080/",
          "height": 175
        },
        "outputId": "b8937e34-9cf2-4da2-b4fc-7fc31ce2ffda"
      },
      "source": [
        "from statsmodels.tsa.stattools import adfuller\n",
        "#Perform Dickey-Fuller test:\n",
        "print('Results of Dickey-Fuller Test:')\n",
        "dftest = adfuller(trainusd_stationary, autolag='AIC')\n",
        "dfoutput = pd.Series(dftest[0:4], index=['Test Statistic','p-value','#Lags Used','Number of Observations Used'])\n",
        "for key,value in dftest[4].items():\n",
        "  dfoutput['Critical Value (%s)'%key] = value\n",
        "print(dfoutput)"
      ],
      "execution_count": 19,
      "outputs": [
        {
          "output_type": "stream",
          "text": [
            "Results of Dickey-Fuller Test:\n",
            "Test Statistic                   -4.219763\n",
            "p-value                           0.000610\n",
            "#Lags Used                       28.000000\n",
            "Number of Observations Used    5718.000000\n",
            "Critical Value (1%)              -3.431494\n",
            "Critical Value (5%)              -2.862046\n",
            "Critical Value (10%)             -2.567039\n",
            "dtype: float64\n"
          ],
          "name": "stdout"
        }
      ]
    },
    {
      "cell_type": "code",
      "metadata": {
        "id": "2-r3TYgni5S5",
        "colab_type": "code",
        "colab": {
          "base_uri": "https://localhost:8080/",
          "height": 496
        },
        "outputId": "baa56fc1-a07f-4dfa-95d5-19e5fdf0aa11"
      },
      "source": [
        "from statsmodels.graphics.tsaplots import plot_acf,plot_pacf\n",
        "from pandas.plotting import autocorrelation_plot\n",
        "from matplotlib import pyplot\n",
        "import statsmodels.api as sm\n",
        "%matplotlib inline\n",
        "\n",
        "fig = plt.figure(figsize=(12,8))\n",
        "ax1 = fig.add_subplot(211)\n",
        "fig = sm.graphics.tsa.plot_acf(trainusd_stationary, lags = 20, ax= ax1)\n",
        "ax2 = fig.add_subplot(212)\n",
        "fig = sm.graphics.tsa.plot_pacf(trainusd_stationary, lags = 20, ax = ax2)\n",
        "pyplot.show()"
      ],
      "execution_count": 20,
      "outputs": [
        {
          "output_type": "display_data",
          "data": {
            "image/png": "[encoded data removed]",
            "text/plain": [
              "<Figure size 864x576 with 2 Axes>"
            ]
          },
          "metadata": {
            "tags": [],
            "needs_background": "light"
          }
        }
      ]
    },
    {
      "cell_type": "code",
      "metadata": {
        "id": "BzpkpB_Vjh_L",
        "colab_type": "code",
        "colab": {}
      },
      "source": [
        "def norm(X):\n",
        "  normdata = (X - min(X))/(max(X) - min(X))\n",
        "  return normdata\n",
        "\n",
        "normexog = pd.DataFrame(columns=trainexog.columns, index=trainexog.index)\n",
        "\n",
        "normusd = norm(trainusd_stationary) \n",
        "\n",
        "for i in trainexog.columns:\n",
        "  normexog[i] = norm(trainexog[i])"
      ],
      "execution_count": 35,
      "outputs": []
    },
    {
      "cell_type": "code",
      "metadata": {
        "id": "Telqib27ob8T",
        "colab_type": "code",
        "colab": {}
      },
      "source": [
        "normtestexog = pd.DataFrame(columns=testexog.columns, index=testexog.index)\n",
        "\n",
        "for i in testexog.columns:\n",
        "  normtestexog[i] = norm(testexog[i])"
      ],
      "execution_count": 50,
      "outputs": []
    },
    {
      "cell_type": "code",
      "metadata": {
        "id": "ryfxyXPKmA1t",
        "colab_type": "code",
        "colab": {}
      },
      "source": [
        "exogtra = normexog[(normexog.index).isin(normusd.index)]"
      ],
      "execution_count": 37,
      "outputs": []
    },
    {
      "cell_type": "code",
      "metadata": {
        "id": "222Wq5zLmHz6",
        "colab_type": "code",
        "colab": {
          "base_uri": "https://localhost:8080/",
          "height": 635
        },
        "outputId": "18f306f3-2b98-4225-eae9-14b58b4bc224"
      },
      "source": [
        "from statsmodels.tsa.statespace.sarimax import SARIMAX\n",
        "\n",
        "model = SARIMAX(normusd,order=(1,1,1),seasonal_order=(1,1,1,12),exog = exogtra)\n",
        "#model = SARIMAX(tra,order=(1,1,1),seasonal_order=(1,1,1,12))\n",
        "model_fit = model.fit()  \n",
        "print(model_fit.summary())"
      ],
      "execution_count": 38,
      "outputs": [
        {
          "output_type": "stream",
          "text": [
            "/usr/local/lib/python3.6/dist-packages/statsmodels/tsa/base/tsa_model.py:219: ValueWarning: A date index has been provided, but it has no associated frequency information and so will be ignored when e.g. forecasting.\n",
            "  ' ignored when e.g. forecasting.', ValueWarning)\n",
            "/usr/local/lib/python3.6/dist-packages/statsmodels/base/model.py:512: ConvergenceWarning: Maximum Likelihood optimization failed to converge. Check mle_retvals\n",
            "  \"Check mle_retvals\", ConvergenceWarning)\n"
          ],
          "name": "stderr"
        },
        {
          "output_type": "stream",
          "text": [
            "                                 Statespace Model Results                                 \n",
            "==========================================================================================\n",
            "Dep. Variable:                                USD   No. Observations:                 5747\n",
            "Model:             SARIMAX(1, 1, 1)x(1, 1, 1, 12)   Log Likelihood               14908.824\n",
            "Date:                            Sun, 05 Jul 2020   AIC                         -29799.648\n",
            "Time:                                    10:51:38   BIC                         -29739.761\n",
            "Sample:                                         0   HQIC                        -29778.804\n",
            "                                           - 5747                                         \n",
            "Covariance Type:                              opg                                         \n",
            "==============================================================================\n",
            "                 coef    std err          z      P>|z|      [0.025      0.975]\n",
            "------------------------------------------------------------------------------\n",
            "NASDAQ        -0.2773      0.098     -2.820      0.005      -0.470      -0.085\n",
            "DJAI           0.7630      0.149      5.116      0.000       0.471       1.055\n",
            "NYSE          -3.7742      0.181    -20.857      0.000      -4.129      -3.420\n",
            "S&P            3.0763      0.271     11.372      0.000       2.546       3.607\n",
            "ar.L1          0.6305      1.259      0.501      0.617      -1.838       3.099\n",
            "ma.L1         -0.6350      1.253     -0.507      0.612      -3.091       1.821\n",
            "ar.S.L12       0.0092      0.013      0.716      0.474      -0.016       0.035\n",
            "ma.S.L12      -0.9976      0.004   -234.842      0.000      -1.006      -0.989\n",
            "sigma2         0.0003   5.15e-06     62.008      0.000       0.000       0.000\n",
            "===================================================================================\n",
            "Ljung-Box (Q):                       55.89   Jarque-Bera (JB):               160.98\n",
            "Prob(Q):                              0.05   Prob(JB):                         0.00\n",
            "Heteroskedasticity (H):               0.85   Skew:                             0.02\n",
            "Prob(H) (two-sided):                  0.00   Kurtosis:                         3.82\n",
            "===================================================================================\n",
            "\n",
            "Warnings:\n",
            "[1] Covariance matrix calculated using the outer product of gradients (complex-step).\n"
          ],
          "name": "stdout"
        }
      ]
    },
    {
      "cell_type": "code",
      "metadata": {
        "id": "dY4KoF2imWce",
        "colab_type": "code",
        "colab": {
          "base_uri": "https://localhost:8080/",
          "height": 72
        },
        "outputId": "e1552665-eea2-427e-e419-62c86770fdb5"
      },
      "source": [
        "# invert differenced value\n",
        "def inverse_difference(history, yhat, interval=1):\n",
        "\treturn yhat + history[-interval]\n",
        "\n",
        "# invert the differenced forecast to something usable\n",
        "forecast = model_fit.predict(start = len(normusd), end= len(normusd)+len(testusd)-1, exog=normtestexog)\n",
        "\n",
        "history = [x for x in normusd]\n",
        "pred = []\n",
        "days_in_year = 273\n",
        "day = 1\n",
        "for yhat in forecast:\n",
        "\tinverted = inverse_difference(history, yhat, days_in_year)\n",
        "\tpred.append(inverted)\n",
        "\thistory.append(inverted)\n",
        "\tday += 1\n"
      ],
      "execution_count": 51,
      "outputs": [
        {
          "output_type": "stream",
          "text": [
            "/usr/local/lib/python3.6/dist-packages/statsmodels/tsa/base/tsa_model.py:576: ValueWarning: No supported index is available. Prediction results will be given with an integer index beginning at `start`.\n",
            "  ValueWarning)\n"
          ],
          "name": "stderr"
        }
      ]
    },
    {
      "cell_type": "code",
      "metadata": {
        "id": "fRAUeMpooUUR",
        "colab_type": "code",
        "colab": {}
      },
      "source": [
        "forecast.index = testusd.index"
      ],
      "execution_count": 56,
      "outputs": []
    },
    {
      "cell_type": "code",
      "metadata": {
        "id": "W4u6as9EnuKW",
        "colab_type": "code",
        "colab": {
          "base_uri": "https://localhost:8080/",
          "height": 431
        },
        "outputId": "9061e7d0-dbc7-43ff-a4f8-2f32b62fe40b"
      },
      "source": [
        "pred = np.exp(pred)\n",
        "output = pd.DataFrame(columns=['test','pred'])\n",
        "output['test'] = norm(testusd)\n",
        "output['pred'] = pred\n",
        "\n",
        "output"
      ],
      "execution_count": 53,
      "outputs": [
        {
          "output_type": "execute_result",
          "data": {
            "text/html": [
              "<div>\n",
              "<style scoped>\n",
              "    .dataframe tbody tr th:only-of-type {\n",
              "        vertical-align: middle;\n",
              "    }\n",
              "\n",
              "    .dataframe tbody tr th {\n",
              "        vertical-align: top;\n",
              "    }\n",
              "\n",
              "    .dataframe thead th {\n",
              "        text-align: right;\n",
              "    }\n",
              "</style>\n",
              "<table border=\"1\" class=\"dataframe\">\n",
              "  <thead>\n",
              "    <tr style=\"text-align: right;\">\n",
              "      <th></th>\n",
              "      <th>test</th>\n",
              "      <th>pred</th>\n",
              "    </tr>\n",
              "    <tr>\n",
              "      <th>Date</th>\n",
              "      <th></th>\n",
              "      <th></th>\n",
              "    </tr>\n",
              "  </thead>\n",
              "  <tbody>\n",
              "    <tr>\n",
              "      <th>2013-12-17</th>\n",
              "      <td>0.038095</td>\n",
              "      <td>1.934078</td>\n",
              "    </tr>\n",
              "    <tr>\n",
              "      <th>2013-12-18</th>\n",
              "      <td>0.040166</td>\n",
              "      <td>1.825324</td>\n",
              "    </tr>\n",
              "    <tr>\n",
              "      <th>2013-12-19</th>\n",
              "      <td>0.061698</td>\n",
              "      <td>1.892906</td>\n",
              "    </tr>\n",
              "    <tr>\n",
              "      <th>2013-12-20</th>\n",
              "      <td>0.059627</td>\n",
              "      <td>1.863419</td>\n",
              "    </tr>\n",
              "    <tr>\n",
              "      <th>2013-12-23</th>\n",
              "      <td>0.054244</td>\n",
              "      <td>1.868829</td>\n",
              "    </tr>\n",
              "    <tr>\n",
              "      <th>...</th>\n",
              "      <td>...</td>\n",
              "      <td>...</td>\n",
              "    </tr>\n",
              "    <tr>\n",
              "      <th>2019-12-23</th>\n",
              "      <td>0.767702</td>\n",
              "      <td>7.637372</td>\n",
              "    </tr>\n",
              "    <tr>\n",
              "      <th>2019-12-26</th>\n",
              "      <td>0.763975</td>\n",
              "      <td>8.281797</td>\n",
              "    </tr>\n",
              "    <tr>\n",
              "      <th>2019-12-27</th>\n",
              "      <td>0.736232</td>\n",
              "      <td>8.523515</td>\n",
              "    </tr>\n",
              "    <tr>\n",
              "      <th>2019-12-30</th>\n",
              "      <td>0.728778</td>\n",
              "      <td>9.648967</td>\n",
              "    </tr>\n",
              "    <tr>\n",
              "      <th>2019-12-31</th>\n",
              "      <td>0.714286</td>\n",
              "      <td>9.621835</td>\n",
              "    </tr>\n",
              "  </tbody>\n",
              "</table>\n",
              "<p>1506 rows × 2 columns</p>\n",
              "</div>"
            ],
            "text/plain": [
              "                test      pred\n",
              "Date                          \n",
              "2013-12-17  0.038095  1.934078\n",
              "2013-12-18  0.040166  1.825324\n",
              "2013-12-19  0.061698  1.892906\n",
              "2013-12-20  0.059627  1.863419\n",
              "2013-12-23  0.054244  1.868829\n",
              "...              ...       ...\n",
              "2019-12-23  0.767702  7.637372\n",
              "2019-12-26  0.763975  8.281797\n",
              "2019-12-27  0.736232  8.523515\n",
              "2019-12-30  0.728778  9.648967\n",
              "2019-12-31  0.714286  9.621835\n",
              "\n",
              "[1506 rows x 2 columns]"
            ]
          },
          "metadata": {
            "tags": []
          },
          "execution_count": 53
        }
      ]
    },
    {
      "cell_type": "code",
      "metadata": {
        "id": "D12uZ_nYn4oM",
        "colab_type": "code",
        "colab": {
          "base_uri": "https://localhost:8080/",
          "height": 497
        },
        "outputId": "f274e5a5-0288-4f68-a0c0-67f2330697b1"
      },
      "source": [
        "plt.figure(figsize=(15,8))\n",
        "plt.plot(normusd)\n",
        "plt.plot(output['test'])\n",
        "plt.plot(output['pred'])\n",
        "plt.plot(forecast)"
      ],
      "execution_count": 58,
      "outputs": [
        {
          "output_type": "execute_result",
          "data": {
            "text/plain": [
              "[<matplotlib.lines.Line2D at 0x7f119d073710>]"
            ]
          },
          "metadata": {
            "tags": []
          },
          "execution_count": 58
        },
        {
          "output_type": "display_data",
          "data": {
            "image/png": "[encoded data removed]",
            "text/plain": [
              "<Figure size 1080x576 with 1 Axes>"
            ]
          },
          "metadata": {
            "tags": [],
            "needs_background": "light"
          }
        }
      ]
    }
  ]
}